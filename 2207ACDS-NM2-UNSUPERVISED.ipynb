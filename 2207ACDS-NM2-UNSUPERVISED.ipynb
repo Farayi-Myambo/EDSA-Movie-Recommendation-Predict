{
 "cells": [
  {
   "cell_type": "markdown",
   "metadata": {},
   "source": [
    "# Unsupervised Learning Predict Notebook - EDSA Movie Recommendation\n"
   ]
  },
  {
   "cell_type": "code",
   "execution_count": 2,
   "metadata": {
    "execution": {
     "iopub.execute_input": "2022-07-22T11:43:15.409670Z",
     "iopub.status.busy": "2022-07-22T11:43:15.409110Z",
     "iopub.status.idle": "2022-07-22T11:43:35.214168Z",
     "shell.execute_reply": "2022-07-22T11:43:35.213040Z",
     "shell.execute_reply.started": "2022-07-22T11:43:15.409642Z"
    },
    "papermill": {
     "duration": 0.060312,
     "end_time": "2020-12-14T15:17:28.101738",
     "exception": false,
     "start_time": "2020-12-14T15:17:28.041426",
     "status": "completed"
    },
    "tags": []
   },
   "outputs": [],
   "source": [
    "!pip install comet_ml"
   ]
  },
  {
   "cell_type": "code",
   "execution_count": 3,
   "metadata": {
    "execution": {
     "iopub.execute_input": "2022-07-22T11:43:35.215754Z",
     "iopub.status.busy": "2022-07-22T11:43:35.215397Z",
     "iopub.status.idle": "2022-07-22T11:43:36.092302Z",
     "shell.execute_reply": "2022-07-22T11:43:36.091176Z",
     "shell.execute_reply.started": "2022-07-22T11:43:35.215698Z"
    }
   },
   "outputs": [],
   "source": [
    "from comet_ml import Experiment"
   ]
  },
  {
   "cell_type": "markdown",
   "metadata": {
    "papermill": {
     "duration": 0.059669,
     "end_time": "2020-12-14T15:17:28.222232",
     "exception": false,
     "start_time": "2020-12-14T15:17:28.162563",
     "status": "completed"
    },
    "tags": []
   },
   "source": [
    "## Introduction\n",
    "\n",
    "Have you ever been on an online streaming platform like Netflix, Showmax, Youtube? I watched a movie and after some time, that platform started recommending different movies and TV shows to me. I wondered, how the movie streaming platform could suggest content I actually liked. This is an example of a Recommendation System. This system is capable of learning ones watching patterns and providing the person with relevant suggestions. Having witnessed the fourth industrial revolution where Artificial Intelligence and other technologies are dominating the market, I am sure that you must have come across a recommendation system in your everyday life.The importance of a recommender system cannot be stressed enough. The financial benefits are enormous and almost every major tech company has applied them in some form or the other In this Machine Learning Predict, we will walk you through building your own recommendation system.\n",
    "\n",
    "<br></br>\n",
    "\n",
    "<div align=\"center\" style=\"width: 600px; font-size: 80%; text-align: center; margin: 0 auto\">\n",
    "<img src=\"https://3.bp.blogspot.com/-tRH4a36gEOc/VlJcXFoY9bI/AAAAAAAAADo/fRu2BNRW7W4/s1600/Film%2BReel.jpg\"\n",
    "     style=\"float: center; padding-bottom=0.5em\"\n",
    "     width=600px/>\n",
    "\n",
    "</div>\n",
    "\n",
    "\n",
    "## 1.1 Problem Statement\n",
    "\n",
    "Develop a recommendation algorithm based on content or collaborative filtering capable of accurately recommending movies for users based on historical preferences. \n",
    "\n",
    "### Datasets\n",
    "* genome_scores.csv - A score mapping the strength between movies and tag-related properties.\n",
    "* genome_tags.csv - User assigned tags for genome-related scores.\n",
    "* imdb_data.csv - Additional movie metadata scraped from IMDB using the links.csv file.\n",
    "* links.csv - File providing a mapping between a MovieLens ID and associated IMDB and TMDB IDs.\n",
    "* sample_submission.csv - Sample of the submission format for the hackathon.\n",
    "* tags.csv - User assigned for the movies within the dataset.\n",
    "* test.csv - The test split of the dataset. Contains user and movie IDs with no rating data.\n",
    "* train.csv - The training split of the dataset. Contains user and movie IDs with associated rating data.\n"
   ]
  },
  {
   "cell_type": "code",
   "execution_count": 5,
   "metadata": {
    "execution": {
     "iopub.execute_input": "2022-07-22T11:43:38.487803Z",
     "iopub.status.busy": "2022-07-22T11:43:38.487208Z",
     "iopub.status.idle": "2022-07-22T11:43:49.543463Z",
     "shell.execute_reply": "2022-07-22T11:43:49.542254Z",
     "shell.execute_reply.started": "2022-07-22T11:43:38.487763Z"
    }
   },
   "outputs": [],
   "source": [
    "!pip install squarify"
   ]
  },
  {
   "cell_type": "markdown",
   "metadata": {
    "papermill": {
     "duration": 0.060021,
     "end_time": "2020-12-14T15:17:28.342692",
     "exception": false,
     "start_time": "2020-12-14T15:17:28.282671",
     "status": "completed"
    },
    "tags": []
   },
   "source": [
    "\n",
    "## 2. Loading Required Libraries:"
   ]
  },
  {
   "cell_type": "code",
   "execution_count": 6,
   "metadata": {
    "execution": {
     "iopub.execute_input": "2022-07-22T11:43:49.546114Z",
     "iopub.status.busy": "2022-07-22T11:43:49.545629Z",
     "iopub.status.idle": "2022-07-22T11:43:51.879900Z",
     "shell.execute_reply": "2022-07-22T11:43:51.878601Z",
     "shell.execute_reply.started": "2022-07-22T11:43:49.546063Z"
    },
    "papermill": {
     "duration": 2.759562,
     "end_time": "2020-12-14T15:17:31.162204",
     "exception": false,
     "start_time": "2020-12-14T15:17:28.402642",
     "status": "completed"
    },
    "tags": []
   },
   "outputs": [],
   "source": [
    "# Ignore warnings\n",
    "import warnings\n",
    "warnings.simplefilter(action='ignore')\n",
    "\n",
    "#Install Prerequisites\n",
    "import sys\n",
    "#!{sys.executable} -m pip install scikit-learn scikit-surprise\n",
    "#!pip install git+https://github.com/gbolmier/funk-svd\n",
    "\n",
    "# Exploratory Data Analysis\n",
    "import pickle\n",
    "import numpy as np\n",
    "import pandas as pd\n",
    "import seaborn as sns\n",
    "import matplotlib.pyplot as plt\n",
    "\n",
    "# Data Preprocessing\n",
    "import random\n",
    "from time import time\n",
    "\n",
    "from sklearn.manifold import TSNE\n",
    "from sklearn.cluster import KMeans\n",
    "from sklearn.decomposition import PCA\n",
    "from mpl_toolkits.mplot3d import Axes3D\n",
    "from matplotlib.ticker import NullFormatter\n",
    "from sklearn.preprocessing import StandardScaler\n",
    "from plotly.offline import download_plotlyjs, init_notebook_mode, plot, iplot\n",
    "init_notebook_mode(connected=True)\n",
    "\n",
    "# Models\n",
    "from surprise import Reader, Dataset\n",
    "from surprise import SVD, NormalPredictor, BaselineOnly, NMF, SlopeOne, CoClustering\n",
    "from sklearn.metrics.pairwise import cosine_similarity\n",
    "from sklearn.feature_extraction.text import CountVectorizer\n",
    "\n",
    "# Performance Evaluation\n",
    "from surprise import accuracy\n",
    "from sklearn.metrics import mean_squared_error\n",
    "from surprise.model_selection import GridSearchCV, cross_validate, train_test_split\n",
    "\n",
    "# Display\n",
    "%matplotlib inline\n",
    "sns.set(font_scale=1)\n",
    "sns.set_style(\"white\")\n",
    "pd.set_option('display.max_columns', 37)\n",
    "from wordcloud import WordCloud \n",
    "import warnings\n",
    "warnings.filterwarnings('ignore')\n",
    "from IPython.display import display_html \n",
    "from IPython.core.display import HTML\n",
    "from collections import defaultdict\n",
    "import datetime\n",
    "import re\n",
    "import squarify\n",
    "import os\n",
    "for dirname, _, filenames in os.walk('/kaggle/input'):\n",
    "    for filename in filenames:\n",
    "        print(os.path.join(dirname, filename))\n",
    "        \n",
    "# Visualisation\n",
    "import matplotlib.pyplot as plt \n",
    "import seaborn as sns\n",
    "sns.set_style(\"darkgrid\")\n",
    "import plotly.offline as py\n",
    "import plotly.express as px\n",
    "import plotly.graph_objects as go\n",
    "from plotly.offline import init_notebook_mode, plot, iplot\n",
    "init_notebook_mode(connected=True)\n",
    "py.init_notebook_mode(connected = True)\n",
    "from wordcloud import WordCloud, STOPWORDS, ImageColorGenerator\n"
   ]
  },
  {
   "cell_type": "markdown",
   "metadata": {
    "papermill": {
     "duration": 0.06231,
     "end_time": "2020-12-14T15:17:31.543957",
     "exception": false,
     "start_time": "2020-12-14T15:17:31.481647",
     "status": "completed"
    },
    "tags": []
   },
   "source": [
    "## 3. Loading the dataset\n"
   ]
  },
  {
   "cell_type": "code",
   "execution_count": 8,
   "metadata": {
    "execution": {
     "iopub.execute_input": "2022-07-22T11:43:51.890129Z",
     "iopub.status.busy": "2022-07-22T11:43:51.889312Z",
     "iopub.status.idle": "2022-07-22T11:44:16.019269Z",
     "shell.execute_reply": "2022-07-22T11:44:16.018142Z",
     "shell.execute_reply.started": "2022-07-22T11:43:51.890097Z"
    },
    "papermill": {
     "duration": 0.069382,
     "end_time": "2020-12-14T15:17:31.675450",
     "exception": false,
     "start_time": "2020-12-14T15:17:31.606068",
     "status": "completed"
    },
    "tags": []
   },
   "outputs": [],
   "source": [
    "# #Reading all the given data\n",
    "train_df = pd.read_csv('/kaggle/input/movierecommendation/train.csv') \n",
    "test_df = pd.read_csv('/kaggle/input/movierecommendation/test.csv')\n",
    "links_df = pd.read_csv('/kaggle/input/movierecommendation/links.csv')\n",
    "movies_df = pd.read_csv('/kaggle/input/movierecommendation/movies.csv')\n",
    "imdb_df = pd.read_csv('/kaggle/input/movierecommendation/imdb_data.csv')\n",
    "tags_df = pd.read_csv('/kaggle/input/movierecommendation/tags.csv')\n",
    "genome_tags_df = pd.read_csv('/kaggle/input/movierecommendation/genome_tags.csv')\n",
    "genome_scores_df = pd.read_csv('/kaggle/input/movierecommendation/genome_scores.csv')\n",
    "\n",
    "\n",
    "dataset = pd.read_csv('/kaggle/input/movierecommendation/train.csv')\n",
    "df =  dataset.head(100000)\n",
    "movies = pd.read_csv('/kaggle/input/movierecommendation/movies.csv')\n",
    "df = pd.merge(df,movies,on=\"movieId\")\n"
   ]
  },
  {
   "cell_type": "markdown",
   "metadata": {
    "papermill": {
     "duration": 0.061573,
     "end_time": "2020-12-14T15:17:55.397453",
     "exception": false,
     "start_time": "2020-12-14T15:17:55.335880",
     "status": "completed"
    },
    "tags": []
   },
   "source": [
    "It is important to note that our target variable within this project is the ratings variable that is present in the train_df  loaded above."
   ]
  },
  {
   "cell_type": "markdown",
   "metadata": {
    "papermill": {
     "duration": 0.061347,
     "end_time": "2020-12-14T15:17:55.520591",
     "exception": false,
     "start_time": "2020-12-14T15:17:55.459244",
     "status": "completed"
    },
    "tags": []
   },
   "source": [
    "# 4. Data Preprocessing\n",
    "## 4.1 Dataset Overview\n",
    "Below we will be familiarizing ourselves with the attributes of the data given to us."
   ]
  },
  {
   "cell_type": "code",
   "execution_count": 10,
   "metadata": {
    "execution": {
     "iopub.execute_input": "2022-07-22T11:44:16.031843Z",
     "iopub.status.busy": "2022-07-22T11:44:16.031103Z",
     "iopub.status.idle": "2022-07-22T11:44:16.044753Z",
     "shell.execute_reply": "2022-07-22T11:44:16.043765Z",
     "shell.execute_reply.started": "2022-07-22T11:44:16.031810Z"
    },
    "papermill": {
     "duration": 0.072256,
     "end_time": "2020-12-14T15:17:55.654633",
     "exception": false,
     "start_time": "2020-12-14T15:17:55.582377",
     "status": "completed"
    },
    "tags": []
   },
   "outputs": [],
   "source": [
    "#A function that displays multiple dataframes in one cell\n",
    "def data_overview_display(dataframe_list,column_names=[]):\n",
    "\n",
    "    html_string = ''\n",
    "    html_string += ('<tr>' + ''.join(f'<td style=\"text-align:center\">{name}</td>' for name in column_names) + '</tr>')\n",
    "    html_string += ('<tr>' + ''.join(f'<td style=\"vertical-align:top\"> {df.to_html(index=True)}</td>' for df in dataframe_list) + '</tr>')\n",
    "    html_string = f'<table>{html_string}</table>'\n",
    "    html_string = html_string.replace('table','table style=\"display:inline\"')\n",
    "    display_html(html_string, raw=True)  \n",
    "    "
   ]
  },
  {
   "cell_type": "code",
   "execution_count": 11,
   "metadata": {
    "execution": {
     "iopub.execute_input": "2022-07-22T11:44:16.046622Z",
     "iopub.status.busy": "2022-07-22T11:44:16.046262Z",
     "iopub.status.idle": "2022-07-22T11:44:16.076981Z",
     "shell.execute_reply": "2022-07-22T11:44:16.076142Z",
     "shell.execute_reply.started": "2022-07-22T11:44:16.046590Z"
    },
    "papermill": {
     "duration": 0.083922,
     "end_time": "2020-12-14T15:17:55.800800",
     "exception": false,
     "start_time": "2020-12-14T15:17:55.716878",
     "status": "completed"
    },
    "tags": []
   },
   "outputs": [],
   "source": [
    "#Show \"imdb_df\" dataframe\n",
    "imdb_df.head()"
   ]
  },
  {
   "cell_type": "code",
   "execution_count": 12,
   "metadata": {
    "execution": {
     "iopub.execute_input": "2022-07-22T11:44:16.079178Z",
     "iopub.status.busy": "2022-07-22T11:44:16.078381Z",
     "iopub.status.idle": "2022-07-22T11:44:16.092286Z",
     "shell.execute_reply": "2022-07-22T11:44:16.091033Z",
     "shell.execute_reply.started": "2022-07-22T11:44:16.079142Z"
    },
    "papermill": {
     "duration": 0.080705,
     "end_time": "2020-12-14T15:17:55.946106",
     "exception": false,
     "start_time": "2020-12-14T15:17:55.865401",
     "status": "completed"
    },
    "tags": []
   },
   "outputs": [],
   "source": [
    "#displays the overview of train,test,movies \n",
    "data_overview_display([train_df.head(),test_df.head(),links_df.head(),tags_df.head()], column_names=['Train','Test','Links','Tags'])"
   ]
  },
  {
   "cell_type": "code",
   "execution_count": 13,
   "metadata": {
    "execution": {
     "iopub.execute_input": "2022-07-22T11:44:16.094235Z",
     "iopub.status.busy": "2022-07-22T11:44:16.093728Z",
     "iopub.status.idle": "2022-07-22T11:44:16.114255Z",
     "shell.execute_reply": "2022-07-22T11:44:16.113052Z",
     "shell.execute_reply.started": "2022-07-22T11:44:16.094196Z"
    },
    "papermill": {
     "duration": 0.078573,
     "end_time": "2020-12-14T15:17:56.088182",
     "exception": false,
     "start_time": "2020-12-14T15:17:56.009609",
     "status": "completed"
    },
    "tags": []
   },
   "outputs": [],
   "source": [
    "#Displays the overview of Movies,Genome tags, and genome scores dataframes\n",
    "data_overview_display([movies_df.head(),genome_tags_df.head(),genome_scores_df.head()], column_names=['Movies','Genome Tags','Genome Scores'])"
   ]
  },
  {
   "cell_type": "markdown",
   "metadata": {
    "papermill": {
     "duration": 0.063813,
     "end_time": "2020-12-14T15:17:56.216558",
     "exception": false,
     "start_time": "2020-12-14T15:17:56.152745",
     "status": "completed"
    },
    "tags": []
   },
   "source": [
    "# 4.2 Data Cleaning\n",
    "\n",
    "## 4.2.1 Null values"
   ]
  },
  {
   "cell_type": "code",
   "execution_count": 14,
   "metadata": {
    "execution": {
     "iopub.execute_input": "2022-07-22T11:44:16.117143Z",
     "iopub.status.busy": "2022-07-22T11:44:16.116400Z",
     "iopub.status.idle": "2022-07-22T11:44:16.430304Z",
     "shell.execute_reply": "2022-07-22T11:44:16.429127Z",
     "shell.execute_reply.started": "2022-07-22T11:44:16.117093Z"
    },
    "papermill": {
     "duration": 0.347405,
     "end_time": "2020-12-14T15:17:56.627790",
     "exception": false,
     "start_time": "2020-12-14T15:17:56.280385",
     "status": "completed"
    },
    "tags": []
   },
   "outputs": [],
   "source": [
    "#Create the null-value dataframes of all the given data\n",
    "train_null = pd.DataFrame({\"Null Values\":train_df.isnull().sum()})\n",
    "test_null = pd.DataFrame({\"Null Values\":test_df.isnull().sum()})\n",
    "movies_null = pd.DataFrame({\"Null Values\":movies_df.isnull().sum()})\n",
    "links_null = pd.DataFrame({\"Null Values\":links_df.isnull().sum()})\n",
    "imdb_null = pd.DataFrame({\"Null Values\":imdb_df.isnull().sum()})\n",
    "tags_null = pd.DataFrame({\"Null Values\":tags_df.isnull().sum()})\n",
    "genome_tags_null = pd.DataFrame({\"Null Values\":genome_tags_df.isnull().sum()})\n",
    "genome_scores_null = pd.DataFrame({\"Null Values\":genome_scores_df.isnull().sum()})"
   ]
  },
  {
   "cell_type": "code",
   "execution_count": 15,
   "metadata": {
    "execution": {
     "iopub.execute_input": "2022-07-22T11:44:16.431904Z",
     "iopub.status.busy": "2022-07-22T11:44:16.431583Z",
     "iopub.status.idle": "2022-07-22T11:44:16.444748Z",
     "shell.execute_reply": "2022-07-22T11:44:16.443604Z",
     "shell.execute_reply.started": "2022-07-22T11:44:16.431875Z"
    },
    "papermill": {
     "duration": 0.090741,
     "end_time": "2020-12-14T15:17:56.793758",
     "exception": false,
     "start_time": "2020-12-14T15:17:56.703017",
     "status": "completed"
    },
    "tags": []
   },
   "outputs": [],
   "source": [
    "#Display overview of null values of dataframes\n",
    "data_overview_display([train_null,test_null,movies_null,links_null,genome_scores_null,tags_null,genome_tags_null], column_names=['Train df','Test df','Movies df', 'Links df','genome scores df','tags df','genome tags'])"
   ]
  },
  {
   "cell_type": "code",
   "execution_count": 16,
   "metadata": {
    "execution": {
     "iopub.execute_input": "2022-07-22T11:44:16.446665Z",
     "iopub.status.busy": "2022-07-22T11:44:16.446202Z",
     "iopub.status.idle": "2022-07-22T11:44:16.456552Z",
     "shell.execute_reply": "2022-07-22T11:44:16.455783Z",
     "shell.execute_reply.started": "2022-07-22T11:44:16.446635Z"
    },
    "papermill": {
     "duration": 0.084471,
     "end_time": "2020-12-14T15:17:56.950897",
     "exception": false,
     "start_time": "2020-12-14T15:17:56.866426",
     "status": "completed"
    },
    "tags": []
   },
   "outputs": [],
   "source": [
    "#Display overview null value of \"imdb_df\"\n",
    "data_overview_display([imdb_null], column_names=['imdb df'])"
   ]
  },
  {
   "cell_type": "code",
   "execution_count": 17,
   "metadata": {
    "execution": {
     "iopub.execute_input": "2022-07-22T11:44:16.458756Z",
     "iopub.status.busy": "2022-07-22T11:44:16.457798Z",
     "iopub.status.idle": "2022-07-22T11:44:16.469024Z",
     "shell.execute_reply": "2022-07-22T11:44:16.467882Z",
     "shell.execute_reply.started": "2022-07-22T11:44:16.458722Z"
    },
    "papermill": {
     "duration": 0.080551,
     "end_time": "2020-12-14T15:17:57.112332",
     "exception": false,
     "start_time": "2020-12-14T15:17:57.031781",
     "status": "completed"
    },
    "tags": []
   },
   "outputs": [],
   "source": [
    "print (\"As seen from the above, the imdb df has more than: \", round((imdb_null.loc['budget'][0]/len(imdb_df))*100,2),\"% of the missing data, it is thus not advisable to drop the null rows\")"
   ]
  },
  {
   "cell_type": "markdown",
   "metadata": {
    "papermill": {
     "duration": 0.068635,
     "end_time": "2020-12-14T15:17:57.250698",
     "exception": false,
     "start_time": "2020-12-14T15:17:57.182063",
     "status": "completed"
    },
    "tags": []
   },
   "source": [
    "# 4.3 Normalising and combining the Data"
   ]
  },
  {
   "cell_type": "code",
   "execution_count": 18,
   "metadata": {
    "execution": {
     "iopub.execute_input": "2022-07-22T11:44:16.471678Z",
     "iopub.status.busy": "2022-07-22T11:44:16.470760Z",
     "iopub.status.idle": "2022-07-22T11:44:20.085258Z",
     "shell.execute_reply": "2022-07-22T11:44:20.084056Z",
     "shell.execute_reply.started": "2022-07-22T11:44:16.471614Z"
    },
    "papermill": {
     "duration": 2.487018,
     "end_time": "2020-12-14T15:17:59.806647",
     "exception": false,
     "start_time": "2020-12-14T15:17:57.319629",
     "status": "completed"
    },
    "tags": []
   },
   "outputs": [],
   "source": [
    "movies_df['release_year']=movies_df['title'].str[-5:-1] #extracting released year\n",
    "movies_df['genres']=movies_df['genres'].str.split('|') #spliting the genres into a list\n",
    "movies_df=pd.concat([movies_df,train_df['rating']],axis=1).dropna() #concatinate ratings with movies dataframe\n",
    "movies_df.head()"
   ]
  },
  {
   "cell_type": "code",
   "execution_count": 19,
   "metadata": {
    "execution": {
     "iopub.execute_input": "2022-07-22T11:44:20.087822Z",
     "iopub.status.busy": "2022-07-22T11:44:20.087370Z",
     "iopub.status.idle": "2022-07-22T11:44:20.179175Z",
     "shell.execute_reply": "2022-07-22T11:44:20.178023Z",
     "shell.execute_reply.started": "2022-07-22T11:44:20.087780Z"
    },
    "papermill": {
     "duration": 0.161262,
     "end_time": "2020-12-14T15:18:00.034524",
     "exception": false,
     "start_time": "2020-12-14T15:17:59.873262",
     "status": "completed"
    },
    "tags": []
   },
   "outputs": [],
   "source": [
    "imdb_df['title_cast']=imdb_df['title_cast'].str.split('|') #spliting the title cast into a list\n",
    "imdb_df['plot_keywords']=imdb_df['plot_keywords'].str.split('|') #spliting the Key words into a list\n",
    "imdb_df.head()"
   ]
  },
  {
   "cell_type": "code",
   "execution_count": 20,
   "metadata": {
    "execution": {
     "iopub.execute_input": "2022-07-22T11:44:20.180830Z",
     "iopub.status.busy": "2022-07-22T11:44:20.180490Z",
     "iopub.status.idle": "2022-07-22T11:44:20.188683Z",
     "shell.execute_reply": "2022-07-22T11:44:20.187450Z",
     "shell.execute_reply.started": "2022-07-22T11:44:20.180800Z"
    },
    "papermill": {
     "duration": 0.077135,
     "end_time": "2020-12-14T15:18:00.179858",
     "exception": false,
     "start_time": "2020-12-14T15:18:00.102723",
     "status": "completed"
    },
    "tags": []
   },
   "outputs": [],
   "source": [
    "movies_df.shape"
   ]
  },
  {
   "cell_type": "code",
   "execution_count": 21,
   "metadata": {
    "execution": {
     "iopub.execute_input": "2022-07-22T11:44:20.191153Z",
     "iopub.status.busy": "2022-07-22T11:44:20.190727Z",
     "iopub.status.idle": "2022-07-22T11:44:20.230848Z",
     "shell.execute_reply": "2022-07-22T11:44:20.229840Z",
     "shell.execute_reply.started": "2022-07-22T11:44:20.191112Z"
    },
    "papermill": {
     "duration": 0.095848,
     "end_time": "2020-12-14T15:18:00.343822",
     "exception": false,
     "start_time": "2020-12-14T15:18:00.247974",
     "status": "completed"
    },
    "tags": []
   },
   "outputs": [],
   "source": [
    "movies_df.info()"
   ]
  },
  {
   "cell_type": "code",
   "execution_count": 22,
   "metadata": {
    "execution": {
     "iopub.execute_input": "2022-07-22T11:44:20.232440Z",
     "iopub.status.busy": "2022-07-22T11:44:20.232131Z",
     "iopub.status.idle": "2022-07-22T11:44:20.237850Z",
     "shell.execute_reply": "2022-07-22T11:44:20.237002Z",
     "shell.execute_reply.started": "2022-07-22T11:44:20.232411Z"
    },
    "papermill": {
     "duration": 0.07759,
     "end_time": "2020-12-14T15:18:00.489242",
     "exception": false,
     "start_time": "2020-12-14T15:18:00.411652",
     "status": "completed"
    },
    "tags": []
   },
   "outputs": [],
   "source": [
    "imdb_df.shape"
   ]
  },
  {
   "cell_type": "code",
   "execution_count": 23,
   "metadata": {
    "execution": {
     "iopub.execute_input": "2022-07-22T11:44:20.239318Z",
     "iopub.status.busy": "2022-07-22T11:44:20.238904Z",
     "iopub.status.idle": "2022-07-22T11:44:20.268675Z",
     "shell.execute_reply": "2022-07-22T11:44:20.267469Z",
     "shell.execute_reply.started": "2022-07-22T11:44:20.239286Z"
    },
    "papermill": {
     "duration": 0.090653,
     "end_time": "2020-12-14T15:18:00.648293",
     "exception": false,
     "start_time": "2020-12-14T15:18:00.557640",
     "status": "completed"
    },
    "tags": []
   },
   "outputs": [],
   "source": [
    "imdb_df.info()"
   ]
  },
  {
   "cell_type": "code",
   "execution_count": 24,
   "metadata": {
    "execution": {
     "iopub.execute_input": "2022-07-22T11:44:20.270695Z",
     "iopub.status.busy": "2022-07-22T11:44:20.270257Z",
     "iopub.status.idle": "2022-07-22T11:44:20.416916Z",
     "shell.execute_reply": "2022-07-22T11:44:20.415821Z",
     "shell.execute_reply.started": "2022-07-22T11:44:20.270653Z"
    },
    "papermill": {
     "duration": 0.189745,
     "end_time": "2020-12-14T15:18:00.907031",
     "exception": false,
     "start_time": "2020-12-14T15:18:00.717286",
     "status": "completed"
    },
    "tags": []
   },
   "outputs": [],
   "source": [
    "movies_df.groupby('title')['rating'].mean().sort_values(ascending=False ).head() #Katleho's code"
   ]
  },
  {
   "cell_type": "code",
   "execution_count": 25,
   "metadata": {
    "execution": {
     "iopub.execute_input": "2022-07-22T11:44:20.419309Z",
     "iopub.status.busy": "2022-07-22T11:44:20.418539Z",
     "iopub.status.idle": "2022-07-22T11:44:20.556562Z",
     "shell.execute_reply": "2022-07-22T11:44:20.555491Z",
     "shell.execute_reply.started": "2022-07-22T11:44:20.419264Z"
    },
    "papermill": {
     "duration": 0.185198,
     "end_time": "2020-12-14T15:18:01.162431",
     "exception": false,
     "start_time": "2020-12-14T15:18:00.977233",
     "status": "completed"
    },
    "tags": []
   },
   "outputs": [],
   "source": [
    "movies_df.groupby('title')['rating'].count().sort_values(ascending=False ).head()"
   ]
  },
  {
   "cell_type": "code",
   "execution_count": 26,
   "metadata": {
    "execution": {
     "iopub.execute_input": "2022-07-22T11:44:20.558755Z",
     "iopub.status.busy": "2022-07-22T11:44:20.558199Z",
     "iopub.status.idle": "2022-07-22T11:44:20.690278Z",
     "shell.execute_reply": "2022-07-22T11:44:20.688966Z",
     "shell.execute_reply.started": "2022-07-22T11:44:20.558722Z"
    },
    "papermill": {
     "duration": 0.18038,
     "end_time": "2020-12-14T15:18:01.413011",
     "exception": false,
     "start_time": "2020-12-14T15:18:01.232631",
     "status": "completed"
    },
    "tags": []
   },
   "outputs": [],
   "source": [
    "df2 = pd.DataFrame(movies_df.groupby('title')['rating'].mean())"
   ]
  },
  {
   "cell_type": "code",
   "execution_count": 27,
   "metadata": {
    "execution": {
     "iopub.execute_input": "2022-07-22T11:44:20.692620Z",
     "iopub.status.busy": "2022-07-22T11:44:20.692246Z",
     "iopub.status.idle": "2022-07-22T11:44:20.704613Z",
     "shell.execute_reply": "2022-07-22T11:44:20.703423Z",
     "shell.execute_reply.started": "2022-07-22T11:44:20.692586Z"
    },
    "papermill": {
     "duration": 0.082431,
     "end_time": "2020-12-14T15:18:01.565000",
     "exception": false,
     "start_time": "2020-12-14T15:18:01.482569",
     "status": "completed"
    },
    "tags": []
   },
   "outputs": [],
   "source": [
    "df2.head()"
   ]
  },
  {
   "cell_type": "code",
   "execution_count": 28,
   "metadata": {
    "execution": {
     "iopub.execute_input": "2022-07-22T11:44:20.714430Z",
     "iopub.status.busy": "2022-07-22T11:44:20.713987Z",
     "iopub.status.idle": "2022-07-22T11:44:20.855831Z",
     "shell.execute_reply": "2022-07-22T11:44:20.854884Z",
     "shell.execute_reply.started": "2022-07-22T11:44:20.714396Z"
    },
    "papermill": {
     "duration": 0.188524,
     "end_time": "2020-12-14T15:18:01.824887",
     "exception": false,
     "start_time": "2020-12-14T15:18:01.636363",
     "status": "completed"
    },
    "tags": []
   },
   "outputs": [],
   "source": [
    "df2['counts'] = pd.DataFrame(movies_df.groupby('title')['rating'].count())"
   ]
  },
  {
   "cell_type": "code",
   "execution_count": 29,
   "metadata": {
    "execution": {
     "iopub.execute_input": "2022-07-22T11:44:20.857349Z",
     "iopub.status.busy": "2022-07-22T11:44:20.857057Z",
     "iopub.status.idle": "2022-07-22T11:44:20.869076Z",
     "shell.execute_reply": "2022-07-22T11:44:20.867899Z",
     "shell.execute_reply.started": "2022-07-22T11:44:20.857323Z"
    },
    "papermill": {
     "duration": 0.084171,
     "end_time": "2020-12-14T15:18:01.979501",
     "exception": false,
     "start_time": "2020-12-14T15:18:01.895330",
     "status": "completed"
    },
    "tags": []
   },
   "outputs": [],
   "source": [
    "df2.head()"
   ]
  },
  {
   "cell_type": "markdown",
   "metadata": {
    "papermill": {
     "duration": 0.072796,
     "end_time": "2020-12-14T15:18:08.879680",
     "exception": false,
     "start_time": "2020-12-14T15:18:08.806884",
     "status": "completed"
    },
    "tags": []
   },
   "source": [
    "<a id=\"16\"></a>\n",
    "***\n",
    "## **Exploratory Data Analysis (EDA)**\n",
    "***\n",
    "<div align=\"center\" \">\n",
    "<img src=\"https://luminousmen.com/media/exploratory-data-analysis.jpg\"\n",
    "     style=\"float: center; padding-bottom=0.5em\"\n",
    "     width=400px/>\n",
    "\n"
   ]
  },
  {
   "cell_type": "code",
   "execution_count": null,
   "metadata": {},
   "outputs": [],
   "source": []
  },
  {
   "cell_type": "code",
   "execution_count": 32,
   "metadata": {
    "execution": {
     "iopub.execute_input": "2022-07-22T11:44:33.429748Z",
     "iopub.status.busy": "2022-07-22T11:44:33.428880Z",
     "iopub.status.idle": "2022-07-22T11:44:33.741559Z",
     "shell.execute_reply": "2022-07-22T11:44:33.740225Z",
     "shell.execute_reply.started": "2022-07-22T11:44:33.429700Z"
    },
    "papermill": {
     "duration": 0.43873,
     "end_time": "2020-12-14T15:18:09.391755",
     "exception": false,
     "start_time": "2020-12-14T15:18:08.953025",
     "status": "completed"
    },
    "tags": []
   },
   "outputs": [],
   "source": [
    "plt.figure(figsize=(8,6))\n",
    "plt.title('Distribution of ratings')\n",
    "plt.xlabel('Ratings')\n",
    "plt.ylabel('Number of ratings')\n",
    "plt.rcParams['patch.force_edgecolor'] = True\n",
    "df2['rating'].hist() "
   ]
  },
  {
   "cell_type": "markdown",
   "metadata": {
    "papermill": {
     "duration": 0.074669,
     "end_time": "2020-12-14T15:18:09.540491",
     "exception": false,
     "start_time": "2020-12-14T15:18:09.465822",
     "status": "completed"
    },
    "tags": []
   },
   "source": [
    "As we can see in the diagram above, the ratings are left-skewed. We were expecting to see a normal distribution with an average rating of 3. Instead, we observe that users tend to rate movies quite favourably and tend to avoid negative ratings. This skewness could also be explained by the fact that users tend to only rate movies they enjoyed and avoid rating movies they dont like. In other words, if a user doesn't enjoy a movie, it is quite unlikely that they will watch it up until the endand rate it."
   ]
  },
  {
   "cell_type": "code",
   "execution_count": 33,
   "metadata": {
    "execution": {
     "iopub.execute_input": "2022-07-22T11:44:33.743263Z",
     "iopub.status.busy": "2022-07-22T11:44:33.742899Z",
     "iopub.status.idle": "2022-07-22T11:44:33.753046Z",
     "shell.execute_reply": "2022-07-22T11:44:33.751654Z",
     "shell.execute_reply.started": "2022-07-22T11:44:33.743200Z"
    },
    "papermill": {
     "duration": 0.085316,
     "end_time": "2020-12-14T15:18:09.700180",
     "exception": false,
     "start_time": "2020-12-14T15:18:09.614864",
     "status": "completed"
    },
    "tags": []
   },
   "outputs": [],
   "source": [
    "def extract_popular_movies(df1,df2):\n",
    "    \n",
    "    \"\"\"\n",
    "    A function that retruns popular movies based on \n",
    "    the avarage ratings and the total ratings count.\n",
    "\n",
    "    Parameters:\n",
    "    \n",
    "    df1: DataFrame from the train_df\n",
    "    df2: DataFrame from the movies_df\n",
    "    \n",
    "    Returns a dataframe of porpular movies.\n",
    "      \n",
    "    \"\"\"\n",
    "   \n",
    "   \n",
    "    rating = pd.DataFrame(df1.groupby('movieId')['rating'].mean())#Calculating avarage rating and storing the results as a DataFrame\n",
    "    \n",
    "    rating['ratings_count'] = pd.DataFrame(df1.groupby('movieId')['rating'].count())#Calculating total ratings count and storing the results as a DataFrame\n",
    "    rating=rating.sort_values(by=['ratings_count','ratings_count'],ascending=False).reset_index()\n",
    "    \n",
    "    \n",
    "    inner_join = pd.merge(rating,df2,on ='movieId',how ='inner')#Joining both DataFrames\n",
    "    popular_movies=inner_join[['title','rating_x','ratings_count','release_year']].rename(columns={\"rating_x\": \"rating\"})\n",
    "    \n",
    "    return popular_movies"
   ]
  },
  {
   "cell_type": "code",
   "execution_count": 34,
   "metadata": {
    "execution": {
     "iopub.execute_input": "2022-07-22T11:44:33.756049Z",
     "iopub.status.busy": "2022-07-22T11:44:33.755077Z",
     "iopub.status.idle": "2022-07-22T11:44:34.395864Z",
     "shell.execute_reply": "2022-07-22T11:44:34.394759Z",
     "shell.execute_reply.started": "2022-07-22T11:44:33.755996Z"
    },
    "papermill": {
     "duration": 0.902206,
     "end_time": "2020-12-14T15:18:10.676519",
     "exception": false,
     "start_time": "2020-12-14T15:18:09.774313",
     "status": "completed"
    },
    "tags": []
   },
   "outputs": [],
   "source": [
    "extract_popular_movies(train_df,movies_df).head() #display the extracted porpular movies"
   ]
  },
  {
   "cell_type": "markdown",
   "metadata": {
    "papermill": {
     "duration": 0.073972,
     "end_time": "2020-12-14T15:18:10.825039",
     "exception": false,
     "start_time": "2020-12-14T15:18:10.751067",
     "status": "completed"
    },
    "tags": []
   },
   "source": [
    "Above we have created a dataframe of the top 15 movies by  ratings of all time which we will use to create a bar plot below. We observe that the most poular movie of all time is a movie called Shawshank Redemption that was released in 1994 and that has an average rating of approximately 4.42. "
   ]
  },
  {
   "cell_type": "code",
   "execution_count": 35,
   "metadata": {
    "execution": {
     "iopub.execute_input": "2022-07-22T11:44:34.398018Z",
     "iopub.status.busy": "2022-07-22T11:44:34.397500Z",
     "iopub.status.idle": "2022-07-22T11:44:35.422162Z",
     "shell.execute_reply": "2022-07-22T11:44:35.421254Z",
     "shell.execute_reply.started": "2022-07-22T11:44:34.397987Z"
    },
    "papermill": {
     "duration": 1.433516,
     "end_time": "2020-12-14T15:18:12.335246",
     "exception": false,
     "start_time": "2020-12-14T15:18:10.901730",
     "status": "completed"
    },
    "tags": []
   },
   "outputs": [],
   "source": [
    "df=extract_popular_movies(train_df,movies_df)\n",
    "\n",
    "\n",
    "plt.figure(figsize = (10,6))#Bar plot of most popular movies by ratings\n",
    "ax=sns.barplot(y='title', x='ratings_count', data=df.head(20),color='blue')\n",
    "ax.set_title('All time Popular Movies by ratings ( Top 15)',fontsize=15)\n",
    "plt.xticks(rotation=90)\n",
    "plt.show()"
   ]
  },
  {
   "cell_type": "markdown",
   "metadata": {
    "papermill": {
     "duration": 0.07995,
     "end_time": "2020-12-14T15:18:12.495375",
     "exception": false,
     "start_time": "2020-12-14T15:18:12.415425",
     "status": "completed"
    },
    "tags": []
   },
   "source": [
    "According to the dataset ,Shawshank redemption is the most Popular movie of all time, with the Lord of the rings also making the top 15."
   ]
  },
  {
   "cell_type": "code",
   "execution_count": 36,
   "metadata": {
    "execution": {
     "iopub.execute_input": "2022-07-22T11:44:35.423983Z",
     "iopub.status.busy": "2022-07-22T11:44:35.423458Z",
     "iopub.status.idle": "2022-07-22T11:44:36.714566Z",
     "shell.execute_reply": "2022-07-22T11:44:36.713467Z",
     "shell.execute_reply.started": "2022-07-22T11:44:35.423931Z"
    },
    "papermill": {
     "duration": 1.13796,
     "end_time": "2020-12-14T15:18:13.713731",
     "exception": false,
     "start_time": "2020-12-14T15:18:12.575771",
     "status": "completed"
    },
    "tags": []
   },
   "outputs": [],
   "source": [
    "#Plotting total amount of movies released in each year using a count plot.\n",
    "figure= plt.subplots(figsize=(15, 5))\n",
    "axes=sns.countplot(x=movies_df['release_year'], order = movies_df['release_year'].value_counts()[0:50].index,color='blue')\n",
    "axes.set_title('Total movies released per year',fontsize=19)\n",
    "plt.xticks(rotation=90)\n",
    "plt.show()"
   ]
  },
  {
   "cell_type": "markdown",
   "metadata": {
    "papermill": {
     "duration": 0.080116,
     "end_time": "2020-12-14T15:18:13.873802",
     "exception": false,
     "start_time": "2020-12-14T15:18:13.793686",
     "status": "completed"
    },
    "tags": []
   },
   "source": [
    "Above, we observe that the years 2015 and 2016 are the years where the highest number of movies were released.What the diagram above communicates to us is that as the years progress, the amount of movies being released have significantly increased.The number of movies being released per year have definitely shot up since the year 2000."
   ]
  },
  {
   "cell_type": "code",
   "execution_count": 37,
   "metadata": {
    "execution": {
     "iopub.execute_input": "2022-07-22T11:44:36.716276Z",
     "iopub.status.busy": "2022-07-22T11:44:36.715924Z",
     "iopub.status.idle": "2022-07-22T11:44:37.194783Z",
     "shell.execute_reply": "2022-07-22T11:44:37.193535Z",
     "shell.execute_reply.started": "2022-07-22T11:44:36.716245Z"
    },
    "papermill": {
     "duration": 0.515704,
     "end_time": "2020-12-14T15:18:14.470097",
     "exception": false,
     "start_time": "2020-12-14T15:18:13.954393",
     "status": "completed"
    },
    "tags": []
   },
   "outputs": [],
   "source": [
    "#Create dataframe \"mini_df\"\n",
    "mini_df = movies_df['genres'].explode().value_counts().reset_index()\n",
    "\n",
    "#Plotting popular genres using Treemap\n",
    "sizes=np.array(mini_df['genres'])\n",
    "labels=mini_df['index']\n",
    "colors = [plt.cm.Paired(i/float(len(labels))) for i in range(len(labels))]\n",
    "plt.figure(figsize=(12,8), dpi= 100)\n",
    "squarify.plot(sizes=sizes, label=labels, color = colors, alpha=.5, edgecolor=\"black\", linewidth=3, text_kwargs={'fontsize':10})\n",
    "plt.title('Treemap of Movie Genres', fontsize = 15)\n",
    "plt.axis('off')\n",
    "plt.show()"
   ]
  },
  {
   "cell_type": "markdown",
   "metadata": {
    "papermill": {
     "duration": 0.085592,
     "end_time": "2020-12-14T15:18:14.639541",
     "exception": false,
     "start_time": "2020-12-14T15:18:14.553949",
     "status": "completed"
    },
    "tags": []
   },
   "source": [
    "The Treemap above indicates that comedy and drama are the most popular genres, followed by others like action, horror, Thriller, romance and this indicates that a combination of these has a higher chance of producing a popular movie. This indicates that most viewers enjoy comedy and action movies the most"
   ]
  },
  {
   "cell_type": "code",
   "execution_count": 38,
   "metadata": {
    "execution": {
     "iopub.execute_input": "2022-07-22T11:44:37.196653Z",
     "iopub.status.busy": "2022-07-22T11:44:37.196297Z",
     "iopub.status.idle": "2022-07-22T11:44:37.598673Z",
     "shell.execute_reply": "2022-07-22T11:44:37.597199Z",
     "shell.execute_reply.started": "2022-07-22T11:44:37.196622Z"
    },
    "papermill": {
     "duration": 0.503712,
     "end_time": "2020-12-14T15:18:15.225346",
     "exception": false,
     "start_time": "2020-12-14T15:18:14.721634",
     "status": "completed"
    },
    "tags": []
   },
   "outputs": [],
   "source": [
    "sub_df= train_df['rating'].value_counts().sort_index().reset_index()\n",
    "fig, ax = plt.subplots(figsize=(10,6))\n",
    "sns.barplot(data=sub_df, x='index', y='rating', palette=\"PuBu\", edgecolor=\"black\", ax=ax)\n",
    "ax.set_xlabel(\"Rating\")\n",
    "ax.set_ylabel('Number of Users')\n",
    "ax.set_yticklabels(['{:,}'.format(int(x)) for x in ax.get_yticks().tolist()])\n",
    "total = float(sub_df['rating'].sum())\n",
    "for p in ax.patches:\n",
    "    height = p.get_height()\n",
    "    ax.text(p.get_x()+p.get_width()/2., height+350, '{0:.2%}'.format(height/total), fontsize=11, ha=\"center\", va='bottom')\n",
    "plt.title('Percentage of Users Per Rating', fontsize=14)\n",
    "plt.show()"
   ]
  },
  {
   "cell_type": "markdown",
   "metadata": {
    "papermill": {
     "duration": 0.084419,
     "end_time": "2020-12-14T15:18:15.396029",
     "exception": false,
     "start_time": "2020-12-14T15:18:15.311610",
     "status": "completed"
    },
    "tags": []
   },
   "source": [
    "As we can see in the diagram above, most users either give a rating of 4.0 or 3.0. Hardly any user ever gives a 0.5 rating"
   ]
  },
  {
   "cell_type": "code",
   "execution_count": null,
   "metadata": {
    "papermill": {
     "duration": 0.083567,
     "end_time": "2020-12-14T15:18:15.562987",
     "exception": false,
     "start_time": "2020-12-14T15:18:15.479420",
     "status": "completed"
    },
    "tags": []
   },
   "outputs": [],
   "source": []
  },
  {
   "cell_type": "code",
   "execution_count": 39,
   "metadata": {
    "execution": {
     "iopub.execute_input": "2022-07-22T11:44:37.600722Z",
     "iopub.status.busy": "2022-07-22T11:44:37.600396Z",
     "iopub.status.idle": "2022-07-22T11:44:39.180386Z",
     "shell.execute_reply": "2022-07-22T11:44:39.179263Z",
     "shell.execute_reply.started": "2022-07-22T11:44:37.600692Z"
    },
    "papermill": {
     "duration": 25.074735,
     "end_time": "2020-12-14T15:18:40.730163",
     "exception": false,
     "start_time": "2020-12-14T15:18:15.655428",
     "status": "completed"
    },
    "tags": []
   },
   "outputs": [],
   "source": [
    "#Plotting popular cast using a count-plot\n",
    "plt.figure(figsize = (10,6))\n",
    "title_cast=imdb_df['title_cast'].explode()\n",
    "ax=sns.countplot(x=title_cast, order = title_cast.value_counts().index[:20],color='blue')\n",
    "ax.set_title('Top 20 Popular Actors',fontsize=15)\n",
    "plt.xticks(rotation=90)\n",
    "plt.show()"
   ]
  },
  {
   "cell_type": "markdown",
   "metadata": {
    "papermill": {
     "duration": 0.082845,
     "end_time": "2020-12-14T15:18:40.896069",
     "exception": false,
     "start_time": "2020-12-14T15:18:40.813224",
     "status": "completed"
    },
    "tags": []
   },
   "source": [
    "As we can see in the diagram above, Samuel L Jackson was the popular cast as he appeared in over 80 movies from our database."
   ]
  },
  {
   "cell_type": "code",
   "execution_count": 40,
   "metadata": {
    "execution": {
     "iopub.execute_input": "2022-07-22T11:44:39.183063Z",
     "iopub.status.busy": "2022-07-22T11:44:39.182127Z",
     "iopub.status.idle": "2022-07-22T11:44:39.777412Z",
     "shell.execute_reply": "2022-07-22T11:44:39.776420Z",
     "shell.execute_reply.started": "2022-07-22T11:44:39.183016Z"
    },
    "papermill": {
     "duration": 0.458024,
     "end_time": "2020-12-14T15:18:41.436486",
     "exception": false,
     "start_time": "2020-12-14T15:18:40.978462",
     "status": "completed"
    },
    "tags": []
   },
   "outputs": [],
   "source": [
    "#Plotting Ratings distribution of observations using a dist-plot\n",
    "plt.figure(figsize = (10,6))\n",
    "axes=sns.distplot(movies_df['rating'],color='blue')\n",
    "axes.set_title('Ratings Distribution',fontsize=15)\n",
    "plt.show()"
   ]
  },
  {
   "cell_type": "markdown",
   "metadata": {
    "papermill": {
     "duration": 0.08294,
     "end_time": "2020-12-14T15:18:41.602648",
     "exception": false,
     "start_time": "2020-12-14T15:18:41.519708",
     "status": "completed"
    },
    "tags": []
   },
   "source": [
    "Most movies had a rating of 4"
   ]
  },
  {
   "cell_type": "code",
   "execution_count": 41,
   "metadata": {
    "execution": {
     "iopub.execute_input": "2022-07-22T11:44:39.779133Z",
     "iopub.status.busy": "2022-07-22T11:44:39.778789Z",
     "iopub.status.idle": "2022-07-22T11:44:40.201121Z",
     "shell.execute_reply": "2022-07-22T11:44:40.200030Z",
     "shell.execute_reply.started": "2022-07-22T11:44:39.779104Z"
    },
    "papermill": {
     "duration": 0.440447,
     "end_time": "2020-12-14T15:18:42.126791",
     "exception": false,
     "start_time": "2020-12-14T15:18:41.686344",
     "status": "completed"
    },
    "tags": []
   },
   "outputs": [],
   "source": [
    "#Plotting distribution of movies's duration using dist-plot\n",
    "plt.figure(figsize = (10,6))\n",
    "axes=sns.distplot(imdb_df['runtime'],color='blue')\n",
    "axes.set_title('Runtime Distribution',fontsize=15)\n",
    "plt.show()"
   ]
  },
  {
   "cell_type": "code",
   "execution_count": 42,
   "metadata": {
    "execution": {
     "iopub.execute_input": "2022-07-22T11:44:40.204077Z",
     "iopub.status.busy": "2022-07-22T11:44:40.202362Z",
     "iopub.status.idle": "2022-07-22T11:45:04.652290Z",
     "shell.execute_reply": "2022-07-22T11:45:04.651096Z",
     "shell.execute_reply.started": "2022-07-22T11:44:40.204041Z"
    },
    "papermill": {
     "duration": 24.743624,
     "end_time": "2020-12-14T15:19:06.955570",
     "exception": false,
     "start_time": "2020-12-14T15:18:42.211946",
     "status": "completed"
    },
    "tags": []
   },
   "outputs": [],
   "source": [
    "# Creating a wordcloud of the movie titles to view the most popular movie titles withtin the word cloud\n",
    "movies_df['title'] = movies_df['title'].fillna(\"\").astype('str')\n",
    "title_corpus = ' '.join(movies_df['title'])\n",
    "title_wordcloud = WordCloud(stopwords=STOPWORDS, background_color='white', height=2000, width=4000).generate(title_corpus)\n",
    "\n",
    "# Plotting the wordcloud\n",
    "plt.figure(figsize=(16,8))\n",
    "plt.imshow(title_wordcloud)\n",
    "plt.axis('off')\n",
    "plt.show()"
   ]
  },
  {
   "cell_type": "markdown",
   "metadata": {
    "papermill": {
     "duration": 0.097142,
     "end_time": "2020-12-14T15:19:07.149372",
     "exception": false,
     "start_time": "2020-12-14T15:19:07.052230",
     "status": "completed"
    },
    "tags": []
   },
   "source": [
    "We observe that the most popular words searched for are 'Love', 'Night', 'Life', 'Girl','Man'"
   ]
  },
  {
   "cell_type": "code",
   "execution_count": 43,
   "metadata": {
    "execution": {
     "iopub.execute_input": "2022-07-22T11:45:04.654502Z",
     "iopub.status.busy": "2022-07-22T11:45:04.654081Z",
     "iopub.status.idle": "2022-07-22T11:45:04.995113Z",
     "shell.execute_reply": "2022-07-22T11:45:04.993799Z",
     "shell.execute_reply.started": "2022-07-22T11:45:04.654464Z"
    },
    "papermill": {
     "duration": 0.744459,
     "end_time": "2020-12-14T15:19:07.988735",
     "exception": false,
     "start_time": "2020-12-14T15:19:07.244276",
     "status": "completed"
    },
    "tags": []
   },
   "outputs": [],
   "source": [
    "#Plotting top 10 movie directors using a count-plot\n",
    "plt.figure(figsize = (10,6))\n",
    "director=imdb_df['director']#.explode()\n",
    "axes=sns.countplot(y=director, order = director.value_counts().index[1:11],color='blue')\n",
    "axes.set_title('Top 10 Most Popular Movie Directors',fontsize=15)\n",
    "plt.xticks(rotation=90)\n",
    "plt.show()"
   ]
  },
  {
   "cell_type": "markdown",
   "metadata": {
    "papermill": {
     "duration": 0.0981,
     "end_time": "2020-12-14T15:19:08.182819",
     "exception": false,
     "start_time": "2020-12-14T15:19:08.084719",
     "status": "completed"
    },
    "tags": []
   },
   "source": [
    "The graph above indicates a number of popular directors based on the number of movies they have directed.In the diagram above, we can observe that the most popular movie director is Luc Besson, with Robert Rodriguez just making the top 10 list"
   ]
  },
  {
   "cell_type": "code",
   "execution_count": 44,
   "metadata": {
    "execution": {
     "iopub.execute_input": "2022-07-22T11:45:04.997229Z",
     "iopub.status.busy": "2022-07-22T11:45:04.996814Z",
     "iopub.status.idle": "2022-07-22T11:45:05.048391Z",
     "shell.execute_reply": "2022-07-22T11:45:05.047493Z",
     "shell.execute_reply.started": "2022-07-22T11:45:04.997198Z"
    },
    "papermill": {
     "duration": 0.153728,
     "end_time": "2020-12-14T15:19:08.433353",
     "exception": false,
     "start_time": "2020-12-14T15:19:08.279625",
     "status": "completed"
    },
    "tags": []
   },
   "outputs": [],
   "source": [
    "movies_imdb= pd.merge(imdb_df,movies_df,on ='movieId',how ='inner') #Merging the imdb_df and movies_df"
   ]
  },
  {
   "cell_type": "code",
   "execution_count": 45,
   "metadata": {
    "execution": {
     "iopub.execute_input": "2022-07-22T11:45:05.050674Z",
     "iopub.status.busy": "2022-07-22T11:45:05.049639Z",
     "iopub.status.idle": "2022-07-22T11:45:05.085464Z",
     "shell.execute_reply": "2022-07-22T11:45:05.084351Z",
     "shell.execute_reply.started": "2022-07-22T11:45:05.050639Z"
    },
    "papermill": {
     "duration": 0.170892,
     "end_time": "2020-12-14T15:19:08.700716",
     "exception": false,
     "start_time": "2020-12-14T15:19:08.529824",
     "status": "completed"
    },
    "tags": []
   },
   "outputs": [],
   "source": [
    "#Create variable \"runtime_genre\"\n",
    "runtime_per_genre=movies_imdb[['genres','runtime']].explode('genres')"
   ]
  },
  {
   "cell_type": "code",
   "execution_count": 46,
   "metadata": {
    "execution": {
     "iopub.execute_input": "2022-07-22T11:45:05.087869Z",
     "iopub.status.busy": "2022-07-22T11:45:05.086894Z",
     "iopub.status.idle": "2022-07-22T11:45:05.104020Z",
     "shell.execute_reply": "2022-07-22T11:45:05.102656Z",
     "shell.execute_reply.started": "2022-07-22T11:45:05.087831Z"
    }
   },
   "outputs": [],
   "source": [
    "runtime_per_genre.head(100)\n"
   ]
  },
  {
   "cell_type": "code",
   "execution_count": 47,
   "metadata": {
    "execution": {
     "iopub.execute_input": "2022-07-22T11:45:05.107242Z",
     "iopub.status.busy": "2022-07-22T11:45:05.106768Z",
     "iopub.status.idle": "2022-07-22T11:45:06.454122Z",
     "shell.execute_reply": "2022-07-22T11:45:06.452627Z",
     "shell.execute_reply.started": "2022-07-22T11:45:05.107197Z"
    },
    "papermill": {
     "duration": 1.106526,
     "end_time": "2020-12-14T15:19:09.903819",
     "exception": false,
     "start_time": "2020-12-14T15:19:08.797293",
     "status": "completed"
    },
    "tags": []
   },
   "outputs": [],
   "source": [
    "#Plotting an average runtime per genre using line-plot\n",
    "plt.figure(figsize=(10,6))\n",
    "plot = sns.barplot(data =runtime_per_genre,x='genres', y='runtime',)\n",
    "plt.title('Average Runtime Per Genre',fontsize=15)\n",
    "plt.xlabel('genres', fontsize=15)\n",
    "plt.ylabel('runtime', fontsize=15)\n",
    "plt.xticks(rotation=90)\n",
    "plt.show()"
   ]
  },
  {
   "cell_type": "markdown",
   "metadata": {
    "papermill": {
     "duration": 0.098784,
     "end_time": "2020-12-14T15:19:10.108475",
     "exception": false,
     "start_time": "2020-12-14T15:19:10.009691",
     "status": "completed"
    },
    "tags": []
   },
   "source": [
    "It can be observed that Western movies have the highest runtime whilst animation movies have the least runtime."
   ]
  },
  {
   "cell_type": "code",
   "execution_count": 48,
   "metadata": {
    "execution": {
     "iopub.execute_input": "2022-07-22T11:45:06.456066Z",
     "iopub.status.busy": "2022-07-22T11:45:06.455648Z",
     "iopub.status.idle": "2022-07-22T11:45:06.534278Z",
     "shell.execute_reply": "2022-07-22T11:45:06.533081Z",
     "shell.execute_reply.started": "2022-07-22T11:45:06.456032Z"
    },
    "papermill": {
     "duration": 0.228626,
     "end_time": "2020-12-14T15:19:10.436932",
     "exception": false,
     "start_time": "2020-12-14T15:19:10.208306",
     "status": "completed"
    },
    "tags": []
   },
   "outputs": [],
   "source": [
    "#Create variable \"budget_per_genre\"\n",
    "budget_per_genre=movies_imdb[['genres','budget']].explode('genres')\n",
    "budget_per_genre['budget']=budget_per_genre['budget'].str.replace(',', \"\").str.extract('(\\d+)', expand=False).astype('float')"
   ]
  },
  {
   "cell_type": "code",
   "execution_count": 49,
   "metadata": {
    "execution": {
     "iopub.execute_input": "2022-07-22T11:45:06.536325Z",
     "iopub.status.busy": "2022-07-22T11:45:06.535906Z",
     "iopub.status.idle": "2022-07-22T11:45:07.783829Z",
     "shell.execute_reply": "2022-07-22T11:45:07.782483Z",
     "shell.execute_reply.started": "2022-07-22T11:45:06.536294Z"
    },
    "papermill": {
     "duration": 1.058539,
     "end_time": "2020-12-14T15:19:11.593587",
     "exception": false,
     "start_time": "2020-12-14T15:19:10.535048",
     "status": "completed"
    },
    "tags": []
   },
   "outputs": [],
   "source": [
    "#Plotting an average budget per genre using a line-plot\n",
    "plt.figure(figsize=(10,6))\n",
    "axes=sns.barplot(data=budget_per_genre, x=\"genres\", y=\"budget\")\n",
    "plt.title('Average Budget Per Genre',fontsize=15)\n",
    "plt.xlabel('genres', fontsize=15)\n",
    "plt.ylabel('budget', fontsize=15)\n",
    "plt.xticks(rotation=90)\n",
    "plt.show()"
   ]
  },
  {
   "cell_type": "markdown",
   "metadata": {
    "papermill": {
     "duration": 0.100665,
     "end_time": "2020-12-14T15:19:11.801256",
     "exception": false,
     "start_time": "2020-12-14T15:19:11.700591",
     "status": "completed"
    },
    "tags": []
   },
   "source": [
    "The War genre requires the biggest budget, and doccumentaries are the least expensive."
   ]
  },
  {
   "cell_type": "code",
   "execution_count": 50,
   "metadata": {
    "execution": {
     "iopub.execute_input": "2022-07-22T11:45:07.786557Z",
     "iopub.status.busy": "2022-07-22T11:45:07.785767Z",
     "iopub.status.idle": "2022-07-22T11:45:08.606032Z",
     "shell.execute_reply": "2022-07-22T11:45:08.605160Z",
     "shell.execute_reply.started": "2022-07-22T11:45:07.786511Z"
    },
    "papermill": {
     "duration": 0.944894,
     "end_time": "2020-12-14T15:19:12.846237",
     "exception": false,
     "start_time": "2020-12-14T15:19:11.901343",
     "status": "completed"
    },
    "tags": []
   },
   "outputs": [],
   "source": [
    "#Plotting the average rating per genre using a box-plot\n",
    "plt.figure(figsize=(10,6))\n",
    "genre_rating=movies_df[['rating','genres']].explode('genres')\n",
    "sns.boxplot(data=genre_rating, x=\"genres\", y=\"rating\",palette=\"PuBu\")\n",
    "plt.xlabel('genres', fontsize=15)\n",
    "plt.ylabel('rating', fontsize=15)\n",
    "plt.xticks(rotation=90)\n",
    "plt.show()"
   ]
  },
  {
   "cell_type": "markdown",
   "metadata": {
    "papermill": {
     "duration": 0.102933,
     "end_time": "2020-12-14T15:19:13.053287",
     "exception": false,
     "start_time": "2020-12-14T15:19:12.950354",
     "status": "completed"
    },
    "tags": []
   },
   "source": [
    "Most Movies with genre **Film-Noir** had the highest ratings amongst all genres."
   ]
  },
  {
   "cell_type": "code",
   "execution_count": 51,
   "metadata": {
    "execution": {
     "iopub.execute_input": "2022-07-22T11:45:08.607782Z",
     "iopub.status.busy": "2022-07-22T11:45:08.607302Z",
     "iopub.status.idle": "2022-07-22T11:45:08.616042Z",
     "shell.execute_reply": "2022-07-22T11:45:08.614787Z",
     "shell.execute_reply.started": "2022-07-22T11:45:08.607752Z"
    },
    "papermill": {
     "duration": 0.114537,
     "end_time": "2020-12-14T15:19:13.279853",
     "exception": false,
     "start_time": "2020-12-14T15:19:13.165316",
     "status": "completed"
    },
    "tags": []
   },
   "outputs": [],
   "source": [
    "def extract_popular_movies(df1,df2):\n",
    "    \"\"\"\n",
    "    Retruns popular movies based on the avarage ratings and the total ratings count.\n",
    "\n",
    "    Parameters:\n",
    "    \n",
    "    df1: DataFrame from train_df\n",
    "    df2: DataFrame from movies_df\n",
    "    \n",
    "    Returns a dataframe of popular movies\n",
    "   \n",
    "      \n",
    "    \"\"\"\n",
    "    #Calculating the avarage rating and storing the results as a DataFrame\n",
    "    avg_rating= pd.DataFrame(df1.groupby('movieId')['rating'].mean())\n",
    "    #Calculating the total ratings count and storing the results as a DataFrame\n",
    "    avg_rating['ratings_count'] = pd.DataFrame(df1.groupby('movieId')['rating'].count())\n",
    "    avg_rating=avg_rating.sort_values(by=['ratings_count','ratings_count'],ascending=False).reset_index()\n",
    "    \n",
    "    #Joining the Two DataFrames\n",
    "    join = pd.merge(avg_rating,df2,on ='movieId',how ='inner')\n",
    "    popular_movies=join[['title','rating_x','ratings_count','release_year']].rename(columns={\"rating_x\": \"rating\"})\n",
    "    \n",
    "    return popular_movies"
   ]
  },
  {
   "cell_type": "code",
   "execution_count": 52,
   "metadata": {
    "execution": {
     "iopub.execute_input": "2022-07-22T11:45:08.618389Z",
     "iopub.status.busy": "2022-07-22T11:45:08.617918Z",
     "iopub.status.idle": "2022-07-22T11:45:09.245487Z",
     "shell.execute_reply": "2022-07-22T11:45:09.244403Z",
     "shell.execute_reply.started": "2022-07-22T11:45:08.618341Z"
    },
    "papermill": {
     "duration": 0.884167,
     "end_time": "2020-12-14T15:19:14.266683",
     "exception": false,
     "start_time": "2020-12-14T15:19:13.382516",
     "status": "completed"
    },
    "tags": []
   },
   "outputs": [],
   "source": [
    "#Create the dataframe \"df\"\n",
    "df=extract_popular_movies(train_df,movies_df)\n",
    "\n",
    "#Extracting latest movies from 2010 to date\n",
    "latest_movies=df[df['release_year']>'2010'][['rating','ratings_count','title']]"
   ]
  },
  {
   "cell_type": "code",
   "execution_count": 53,
   "metadata": {
    "execution": {
     "iopub.execute_input": "2022-07-22T11:45:09.247444Z",
     "iopub.status.busy": "2022-07-22T11:45:09.247133Z",
     "iopub.status.idle": "2022-07-22T11:45:09.629013Z",
     "shell.execute_reply": "2022-07-22T11:45:09.627495Z",
     "shell.execute_reply.started": "2022-07-22T11:45:09.247417Z"
    },
    "papermill": {
     "duration": 0.480474,
     "end_time": "2020-12-14T15:19:14.849969",
     "exception": false,
     "start_time": "2020-12-14T15:19:14.369495",
     "status": "completed"
    },
    "tags": []
   },
   "outputs": [],
   "source": [
    "#Plotting the latest movies from 2010 to date using a bar-plot\n",
    "plt.figure(figsize = (10,6))\n",
    "axes=sns.barplot(y='title', x='ratings_count', data=latest_movies.head(20),color='blue')\n",
    "axes.set_title('Top 20 popular movies by ratings from 2010',fontsize=15)\n",
    "plt.xticks(rotation=90)\n",
    "plt.show()"
   ]
  },
  {
   "cell_type": "markdown",
   "metadata": {
    "papermill": {
     "duration": 0.103949,
     "end_time": "2020-12-14T15:19:15.058895",
     "exception": false,
     "start_time": "2020-12-14T15:19:14.954946",
     "status": "completed"
    },
    "tags": []
   },
   "source": [
    "Intersteller and Django are the most popular movies of this decade."
   ]
  },
  {
   "cell_type": "code",
   "execution_count": 54,
   "metadata": {
    "execution": {
     "iopub.execute_input": "2022-07-22T11:45:09.630799Z",
     "iopub.status.busy": "2022-07-22T11:45:09.630443Z",
     "iopub.status.idle": "2022-07-22T11:45:11.202295Z",
     "shell.execute_reply": "2022-07-22T11:45:11.201167Z",
     "shell.execute_reply.started": "2022-07-22T11:45:09.630768Z"
    },
    "papermill": {
     "duration": 25.131038,
     "end_time": "2020-12-14T15:19:40.299834",
     "exception": false,
     "start_time": "2020-12-14T15:19:15.168796",
     "status": "completed"
    },
    "tags": []
   },
   "outputs": [],
   "source": [
    "#Plotting popular cast using count-plot\n",
    "plt.figure(figsize = (10,6))\n",
    "title_cast=imdb_df['title_cast'].explode()\n",
    "axes=sns.countplot(x=title_cast, order = title_cast.value_counts().index[:20],color='blue')\n",
    "axes.set_title('Popular Cast',fontsize=15)\n",
    "plt.xticks(rotation=90)\n",
    "plt.show()"
   ]
  },
  {
   "cell_type": "markdown",
   "metadata": {
    "papermill": {
     "duration": 0.105337,
     "end_time": "2020-12-14T15:19:40.511432",
     "exception": false,
     "start_time": "2020-12-14T15:19:40.406095",
     "status": "completed"
    },
    "tags": []
   },
   "source": [
    "### Wordcloud of Popular Actors"
   ]
  },
  {
   "cell_type": "code",
   "execution_count": 55,
   "metadata": {
    "execution": {
     "iopub.execute_input": "2022-07-22T11:45:11.204031Z",
     "iopub.status.busy": "2022-07-22T11:45:11.203694Z",
     "iopub.status.idle": "2022-07-22T11:45:37.751232Z",
     "shell.execute_reply": "2022-07-22T11:45:37.750253Z",
     "shell.execute_reply.started": "2022-07-22T11:45:11.203998Z"
    },
    "papermill": {
     "duration": 25.67938,
     "end_time": "2020-12-14T15:20:06.297846",
     "exception": false,
     "start_time": "2020-12-14T15:19:40.618466",
     "status": "completed"
    },
    "tags": []
   },
   "outputs": [],
   "source": [
    "# Creating a wordcloud of the movie titles to view the most popular movie titles withtin the word cloud\n",
    "imdb_df['title_cast'] = imdb_df['title_cast'].fillna(\"\").astype('str')\n",
    "title_corpus = ' '.join(imdb_df['title_cast'])\n",
    "title_wordcloud = WordCloud(stopwords=STOPWORDS, background_color='white', height=2000, width=4000).generate(title_corpus)\n",
    "\n",
    "# Plotting the wordcloud\n",
    "plt.figure(figsize=(16,8))\n",
    "plt.imshow(title_wordcloud)\n",
    "plt.axis('off')\n",
    "plt.show()"
   ]
  },
  {
   "cell_type": "code",
   "execution_count": 56,
   "metadata": {
    "execution": {
     "iopub.execute_input": "2022-07-22T11:45:37.753786Z",
     "iopub.status.busy": "2022-07-22T11:45:37.752688Z",
     "iopub.status.idle": "2022-07-22T11:45:37.767206Z",
     "shell.execute_reply": "2022-07-22T11:45:37.765682Z",
     "shell.execute_reply.started": "2022-07-22T11:45:37.753750Z"
    },
    "papermill": {
     "duration": 0.115881,
     "end_time": "2020-12-14T15:20:06.531184",
     "exception": false,
     "start_time": "2020-12-14T15:20:06.415303",
     "status": "completed"
    },
    "tags": []
   },
   "outputs": [],
   "source": [
    "test_df.info()"
   ]
  },
  {
   "cell_type": "markdown",
   "metadata": {
    "papermill": {
     "duration": 0.117619,
     "end_time": "2020-12-14T15:20:06.773444",
     "exception": false,
     "start_time": "2020-12-14T15:20:06.655825",
     "status": "completed"
    },
    "tags": []
   },
   "source": [
    "<a id='8'></a>\n",
    "# 6. Modelling: Recommendation System"
   ]
  },
  {
   "cell_type": "markdown",
   "metadata": {
    "papermill": {
     "duration": 0.116006,
     "end_time": "2020-12-14T15:20:07.004091",
     "exception": false,
     "start_time": "2020-12-14T15:20:06.888085",
     "status": "completed"
    },
    "tags": []
   },
   "source": [
    "## Collaborative Filtering\n",
    "\n",
    "Collaborative Filtering is the most common technique used when it comes to building intelligent recommender systems that can learn to give better recommendations as more information about users is collected.\n",
    "\n",
    "Collaborative filtering is a technique that can filter out items that a user might like on the basis of reactions by similar users. It works by searching a large group of people and finding a smaller set of users with tastes similar to a particular user. It looks at the items they like and combines them to create a ranked list of suggestions.\n"
   ]
  },
  {
   "cell_type": "markdown",
   "metadata": {
    "papermill": {
     "duration": 0.117771,
     "end_time": "2020-12-14T15:20:07.238852",
     "exception": false,
     "start_time": "2020-12-14T15:20:07.121081",
     "status": "completed"
    },
    "tags": []
   },
   "source": [
    "From the Suprise library, the follwoing algorithms were used:\n",
    "\n",
    "# Basic algorithms\n",
    "***NormalPredictor:*** this algorithm predicts a random rating based on the distribution of the training set, which is assumed to be normal.\n",
    "\n",
    "***BaselineOnly:*** this algorithm predicts the baseline estimate for given user and item.\n",
    "\n",
    "# Matrix Factorization-based algorithms\n",
    "***SVD:*** this algorithm is equivalent to Probabilistic Matrix Factorization ( which makes use of data provided by users with similar preferences to offer recommendations to a particular user).\n",
    "\n",
    "***NMF:*** this is a collaborative filtering algorithm based on Non-negative Matrix Factorization. It is very similar with SVD.\n",
    "\n",
    "***Coclustering:*** is a collaborative filtering algorithm based on co-clustering."
   ]
  },
  {
   "cell_type": "markdown",
   "metadata": {
    "papermill": {
     "duration": 0.115076,
     "end_time": "2020-12-14T15:20:07.470155",
     "exception": false,
     "start_time": "2020-12-14T15:20:07.355079",
     "status": "completed"
    },
    "tags": []
   },
   "source": [
    "## Correlation Score"
   ]
  },
  {
   "cell_type": "code",
   "execution_count": 57,
   "metadata": {
    "execution": {
     "iopub.execute_input": "2022-07-22T11:45:37.768986Z",
     "iopub.status.busy": "2022-07-22T11:45:37.768640Z",
     "iopub.status.idle": "2022-07-22T11:45:37.787614Z",
     "shell.execute_reply": "2022-07-22T11:45:37.786349Z",
     "shell.execute_reply.started": "2022-07-22T11:45:37.768931Z"
    },
    "papermill": {
     "duration": 0.128022,
     "end_time": "2020-12-14T15:20:07.713862",
     "exception": false,
     "start_time": "2020-12-14T15:20:07.585840",
     "status": "completed"
    },
    "tags": []
   },
   "outputs": [],
   "source": [
    "visit_rating = mm['Forrest Gump (1994)']\n",
    "visit_rating.head()"
   ]
  },
  {
   "cell_type": "code",
   "execution_count": 58,
   "metadata": {
    "execution": {
     "iopub.execute_input": "2022-07-22T11:45:37.789769Z",
     "iopub.status.busy": "2022-07-22T11:45:37.789022Z",
     "iopub.status.idle": "2022-07-22T11:45:40.049978Z",
     "shell.execute_reply": "2022-07-22T11:45:40.048854Z",
     "shell.execute_reply.started": "2022-07-22T11:45:37.789733Z"
    },
    "papermill": {
     "duration": 6.676483,
     "end_time": "2020-12-14T15:20:14.506152",
     "exception": false,
     "start_time": "2020-12-14T15:20:07.829669",
     "status": "completed"
    },
    "tags": []
   },
   "outputs": [],
   "source": [
    "visit_similar = mm.corrwith(visit_rating)\n",
    "visit_corr = pd.DataFrame(visit_similar,columns=['Correlation'])\n",
    "visit_corr.dropna(inplace=True)\n",
    "visit_corr.head()"
   ]
  },
  {
   "cell_type": "markdown",
   "metadata": {
    "papermill": {
     "duration": 0.118691,
     "end_time": "2020-12-14T15:20:14.740969",
     "exception": false,
     "start_time": "2020-12-14T15:20:14.622278",
     "status": "completed"
    },
    "tags": []
   },
   "source": [
    "The DataFrame above displays movies that are most similar to forest gump based on the  **correlation score**"
   ]
  },
  {
   "cell_type": "code",
   "execution_count": 59,
   "metadata": {
    "execution": {
     "iopub.execute_input": "2022-07-22T11:45:40.052131Z",
     "iopub.status.busy": "2022-07-22T11:45:40.051638Z",
     "iopub.status.idle": "2022-07-22T11:45:40.064712Z",
     "shell.execute_reply": "2022-07-22T11:45:40.063270Z",
     "shell.execute_reply.started": "2022-07-22T11:45:40.052086Z"
    },
    "papermill": {
     "duration": 0.133153,
     "end_time": "2020-12-14T15:20:14.991923",
     "exception": false,
     "start_time": "2020-12-14T15:20:14.858770",
     "status": "completed"
    },
    "tags": []
   },
   "outputs": [],
   "source": [
    "visit_corr.sort_values('Correlation',ascending=False).head(10)"
   ]
  },
  {
   "cell_type": "code",
   "execution_count": 60,
   "metadata": {
    "execution": {
     "iopub.execute_input": "2022-07-22T11:45:40.067056Z",
     "iopub.status.busy": "2022-07-22T11:45:40.066500Z",
     "iopub.status.idle": "2022-07-22T11:45:40.114938Z",
     "shell.execute_reply": "2022-07-22T11:45:40.114094Z",
     "shell.execute_reply.started": "2022-07-22T11:45:40.067014Z"
    },
    "papermill": {
     "duration": 0.178181,
     "end_time": "2020-12-14T15:20:15.290373",
     "exception": false,
     "start_time": "2020-12-14T15:20:15.112192",
     "status": "completed"
    },
    "tags": []
   },
   "outputs": [],
   "source": [
    "visit_corr_count = visit_corr.join(df2['counts'])\n",
    "visit_corr_count.head()"
   ]
  },
  {
   "cell_type": "code",
   "execution_count": 61,
   "metadata": {
    "execution": {
     "iopub.execute_input": "2022-07-22T11:45:40.116905Z",
     "iopub.status.busy": "2022-07-22T11:45:40.116499Z",
     "iopub.status.idle": "2022-07-22T11:45:40.128339Z",
     "shell.execute_reply": "2022-07-22T11:45:40.127165Z",
     "shell.execute_reply.started": "2022-07-22T11:45:40.116863Z"
    },
    "papermill": {
     "duration": 0.13366,
     "end_time": "2020-12-14T15:20:15.541905",
     "exception": false,
     "start_time": "2020-12-14T15:20:15.408245",
     "status": "completed"
    },
    "tags": []
   },
   "outputs": [],
   "source": [
    "visit_corr_count[visit_corr_count['counts']>10].sort_values('Correlation',ascending=False).head(10)"
   ]
  },
  {
   "cell_type": "code",
   "execution_count": 62,
   "metadata": {
    "execution": {
     "iopub.execute_input": "2022-07-22T11:45:40.130729Z",
     "iopub.status.busy": "2022-07-22T11:45:40.130428Z",
     "iopub.status.idle": "2022-07-22T11:45:40.148110Z",
     "shell.execute_reply": "2022-07-22T11:45:40.147331Z",
     "shell.execute_reply.started": "2022-07-22T11:45:40.130701Z"
    }
   },
   "outputs": [],
   "source": [
    "train_df.head()"
   ]
  },
  {
   "cell_type": "markdown",
   "metadata": {
    "papermill": {
     "duration": 0.118218,
     "end_time": "2020-12-14T15:20:15.780598",
     "exception": false,
     "start_time": "2020-12-14T15:20:15.662380",
     "status": "completed"
    },
    "tags": []
   },
   "source": [
    "\n",
    "\n"
   ]
  },
  {
   "cell_type": "code",
   "execution_count": 63,
   "metadata": {
    "execution": {
     "iopub.execute_input": "2022-07-22T11:45:40.149887Z",
     "iopub.status.busy": "2022-07-22T11:45:40.149558Z",
     "iopub.status.idle": "2022-07-22T11:46:24.716887Z",
     "shell.execute_reply": "2022-07-22T11:46:24.715913Z",
     "shell.execute_reply.started": "2022-07-22T11:45:40.149858Z"
    },
    "papermill": {
     "duration": 0.20019,
     "end_time": "2020-12-14T15:20:16.098642",
     "exception": false,
     "start_time": "2020-12-14T15:20:15.898452",
     "status": "completed"
    },
    "tags": []
   },
   "outputs": [],
   "source": [
    "# Loading our trainset\n",
    "\n",
    "reader = Reader(rating_scale=(train_df['rating'].min(), train_df['rating'].max()))\n",
    "data = Dataset.load_from_df(train_df[['userId', 'movieId', 'rating']], reader)\n",
    "trainset, testset = train_test_split(data, test_size=.30, random_state=42)\n"
   ]
  },
  {
   "cell_type": "markdown",
   "metadata": {
    "papermill": {
     "duration": 0.123212,
     "end_time": "2020-12-14T15:20:16.346560",
     "exception": false,
     "start_time": "2020-12-14T15:20:16.223348",
     "status": "completed"
    },
    "tags": []
   },
   "source": [
    "## SVD\n",
    "\n",
    "The Singular Value Decomposition algorithm is a matrix factorization technique which reduces the number of features of a dataset. In the matrix structure, each row represents a user and each column represents a movie. The matrix elements are ratings that are given to movies by users."
   ]
  },
  {
   "cell_type": "code",
   "execution_count": 64,
   "metadata": {
    "execution": {
     "iopub.execute_input": "2022-07-22T11:46:24.720019Z",
     "iopub.status.busy": "2022-07-22T11:46:24.719022Z",
     "iopub.status.idle": "2022-07-22T12:59:25.816092Z",
     "shell.execute_reply": "2022-07-22T12:59:25.815012Z",
     "shell.execute_reply.started": "2022-07-22T11:46:24.719983Z"
    },
    "papermill": {
     "duration": 0.419229,
     "end_time": "2020-12-14T15:20:16.888517",
     "exception": false,
     "start_time": "2020-12-14T15:20:16.469288",
     "status": "completed"
    },
    "tags": []
   },
   "outputs": [],
   "source": [
    "# Base algorithm\n",
    "algo = SVD(n_epochs= 50, init_std_dev=0.02, n_factors=250)\n",
    "\n",
    "# Fitting our trainset\n",
    "algo.fit(trainset)\n",
    " \n",
    "# Using the 15% testset to make predictions\n",
    "predictions = algo.test(testset) \n",
    "predictions\n",
    "\n",
    "test = pd.DataFrame(predictions)\n",
    "\n",
    "svd_rmse = accuracy.rmse(predictions)"
   ]
  },
  {
   "cell_type": "code",
   "execution_count": 65,
   "metadata": {
    "execution": {
     "iopub.execute_input": "2022-07-22T12:59:25.818056Z",
     "iopub.status.busy": "2022-07-22T12:59:25.817693Z",
     "iopub.status.idle": "2022-07-22T12:59:25.824793Z",
     "shell.execute_reply": "2022-07-22T12:59:25.823753Z",
     "shell.execute_reply.started": "2022-07-22T12:59:25.818026Z"
    }
   },
   "outputs": [],
   "source": [
    "#params = {'n_epochs': 50, 'init_std_dev':0.02, 'n_factors':250}\n",
    "#metrics = {'accuracy' : svd_rmse}\n",
    "#experiment.log_parameters(params)\n",
    "#experiment.log_metrics(metrics)"
   ]
  },
  {
   "cell_type": "code",
   "execution_count": 66,
   "metadata": {
    "execution": {
     "iopub.execute_input": "2022-07-22T12:59:25.826426Z",
     "iopub.status.busy": "2022-07-22T12:59:25.826126Z",
     "iopub.status.idle": "2022-07-22T12:59:25.849005Z",
     "shell.execute_reply": "2022-07-22T12:59:25.847831Z",
     "shell.execute_reply.started": "2022-07-22T12:59:25.826399Z"
    }
   },
   "outputs": [],
   "source": [
    "test.head()"
   ]
  },
  {
   "cell_type": "code",
   "execution_count": 67,
   "metadata": {
    "execution": {
     "iopub.execute_input": "2022-07-22T12:59:25.850810Z",
     "iopub.status.busy": "2022-07-22T12:59:25.850459Z",
     "iopub.status.idle": "2022-07-22T12:59:33.679757Z",
     "shell.execute_reply": "2022-07-22T12:59:33.678716Z",
     "shell.execute_reply.started": "2022-07-22T12:59:25.850782Z"
    },
    "papermill": {
     "duration": 0.160887,
     "end_time": "2020-12-14T15:20:17.167255",
     "exception": false,
     "start_time": "2020-12-14T15:20:17.006368",
     "status": "completed"
    },
    "tags": []
   },
   "outputs": [],
   "source": [
    "pred=pd.DataFrame(predictions)\n",
    "pred"
   ]
  },
  {
   "cell_type": "code",
   "execution_count": 68,
   "metadata": {
    "execution": {
     "iopub.execute_input": "2022-07-22T12:59:33.681291Z",
     "iopub.status.busy": "2022-07-22T12:59:33.680933Z",
     "iopub.status.idle": "2022-07-22T12:59:33.800647Z",
     "shell.execute_reply": "2022-07-22T12:59:33.799639Z",
     "shell.execute_reply.started": "2022-07-22T12:59:33.681230Z"
    },
    "papermill": {
     "duration": 0.12876,
     "end_time": "2020-12-14T15:20:17.448635",
     "exception": false,
     "start_time": "2020-12-14T15:20:17.319875",
     "status": "completed"
    },
    "tags": []
   },
   "outputs": [],
   "source": [
    "pred=pred.rename(columns={'uid':'userId', 'iid':'movieId','est':'rating'})\n",
    "pred.drop(['r_ui','details'],axis=1,inplace=True)"
   ]
  },
  {
   "cell_type": "code",
   "execution_count": null,
   "metadata": {},
   "outputs": [],
   "source": []
  },
  {
   "cell_type": "code",
   "execution_count": 69,
   "metadata": {
    "execution": {
     "iopub.execute_input": "2022-07-22T12:59:33.803221Z",
     "iopub.status.busy": "2022-07-22T12:59:33.802125Z",
     "iopub.status.idle": "2022-07-22T12:59:33.814749Z",
     "shell.execute_reply": "2022-07-22T12:59:33.813336Z",
     "shell.execute_reply.started": "2022-07-22T12:59:33.803184Z"
    },
    "papermill": {
     "duration": 0.133876,
     "end_time": "2020-12-14T15:20:17.701624",
     "exception": false,
     "start_time": "2020-12-14T15:20:17.567748",
     "status": "completed"
    },
    "tags": []
   },
   "outputs": [],
   "source": [
    "pred.info()"
   ]
  },
  {
   "cell_type": "markdown",
   "metadata": {
    "papermill": {
     "duration": 0.125156,
     "end_time": "2020-12-14T15:20:17.948212",
     "exception": false,
     "start_time": "2020-12-14T15:20:17.823056",
     "status": "completed"
    },
    "tags": []
   },
   "source": [
    "#### NormalPredictor  \n",
    "The Normal Predictor algorithm predicts a random rating for each movie based on the distribution of the training set, which is assumed to be normal."
   ]
  },
  {
   "cell_type": "code",
   "execution_count": 70,
   "metadata": {
    "execution": {
     "iopub.execute_input": "2022-07-22T12:59:33.817100Z",
     "iopub.status.busy": "2022-07-22T12:59:33.816661Z",
     "iopub.status.idle": "2022-07-22T13:00:32.563822Z",
     "shell.execute_reply": "2022-07-22T13:00:32.562985Z",
     "shell.execute_reply.started": "2022-07-22T12:59:33.817057Z"
    },
    "papermill": {
     "duration": 0.134326,
     "end_time": "2020-12-14T15:20:18.202169",
     "exception": false,
     "start_time": "2020-12-14T15:20:18.067843",
     "status": "completed"
    },
    "tags": []
   },
   "outputs": [],
   "source": [
    "np_test = NormalPredictor()\n",
    "np_test.fit(trainset)\n",
    "predictions = np_test.test(testset)\n",
    "# Calculate RMSE\n",
    "np_rmse = accuracy.rmse(predictions)"
   ]
  },
  {
   "cell_type": "code",
   "execution_count": 71,
   "metadata": {
    "execution": {
     "iopub.execute_input": "2022-07-22T13:00:32.565675Z",
     "iopub.status.busy": "2022-07-22T13:00:32.564916Z",
     "iopub.status.idle": "2022-07-22T13:00:32.571960Z",
     "shell.execute_reply": "2022-07-22T13:00:32.570695Z",
     "shell.execute_reply.started": "2022-07-22T13:00:32.565644Z"
    }
   },
   "outputs": [],
   "source": [
    "#params = {'Parameters': 'default'}\n",
    "#metrics = {'accuracy' : np_rmse}\n",
    "#experiment.log_parameters(params)\n",
    "#experiment.log_metrics(metrics)"
   ]
  },
  {
   "cell_type": "markdown",
   "metadata": {
    "papermill": {
     "duration": 0.119196,
     "end_time": "2020-12-14T15:20:18.443331",
     "exception": false,
     "start_time": "2020-12-14T15:20:18.324135",
     "status": "completed"
    },
    "tags": []
   },
   "source": [
    "#### NMF  \n",
    "NMF is a collaborative filtering algorithm based on Non-negative Matrix Factorization. The optimization procedure is a (regularized) stochastic gradient descent with a specific choice of step size that ensures non-negativity of factors, provided that their initial values are also positive."
   ]
  },
  {
   "cell_type": "code",
   "execution_count": 72,
   "metadata": {
    "execution": {
     "iopub.execute_input": "2022-07-22T13:00:32.573691Z",
     "iopub.status.busy": "2022-07-22T13:00:32.573417Z",
     "iopub.status.idle": "2022-07-22T13:14:36.183007Z",
     "shell.execute_reply": "2022-07-22T13:14:36.181648Z",
     "shell.execute_reply.started": "2022-07-22T13:00:32.573666Z"
    },
    "papermill": {
     "duration": 0.303353,
     "end_time": "2020-12-14T15:20:18.865782",
     "exception": false,
     "start_time": "2020-12-14T15:20:18.562429",
     "status": "completed"
    },
    "tags": []
   },
   "outputs": [],
   "source": [
    "nmf = NMF()\n",
    "nmf.fit(trainset)\n",
    "predictions = nmf.test(testset)\n",
    "# Calculate RMSE\n",
    "nmf_rmse = accuracy.rmse(predictions)"
   ]
  },
  {
   "cell_type": "code",
   "execution_count": 73,
   "metadata": {
    "execution": {
     "iopub.execute_input": "2022-07-22T13:14:36.185435Z",
     "iopub.status.busy": "2022-07-22T13:14:36.184991Z",
     "iopub.status.idle": "2022-07-22T13:14:36.196243Z",
     "shell.execute_reply": "2022-07-22T13:14:36.195021Z",
     "shell.execute_reply.started": "2022-07-22T13:14:36.185390Z"
    }
   },
   "outputs": [],
   "source": [
    "#params = {'n_components': 'None', 'init': 'None', 'solver':'cd', 'beta_loss':'frobenius', 'tol': 0.0001, 'max_iter':200, 'random_state':'None', 'alpha':'deprecated', 'alpha_W':0.0, 'alpha_H':'same', 'l1_ratio':0.0, 'verbose':0, 'shuffle':'False', 'regularization':'deprecated'}\n",
    "#metrics = {'accuracy' : nmf_rmse}\n",
    "#experiment.log_parameters(params)\n",
    "#experiment.log_metrics(metrics)"
   ]
  },
  {
   "cell_type": "markdown",
   "metadata": {
    "papermill": {
     "duration": 0.120913,
     "end_time": "2020-12-14T15:20:19.638675",
     "exception": false,
     "start_time": "2020-12-14T15:20:19.517762",
     "status": "completed"
    },
    "tags": []
   },
   "source": [
    "#### BaselineOnly  \n",
    "The Baseline Only algorithm predicts the baseline estimate for a given user and movie. A baseline is calculated using either Stochastic Gradient Descent (SGD) or Alternating Least Squares (ALS)."
   ]
  },
  {
   "cell_type": "code",
   "execution_count": 74,
   "metadata": {
    "execution": {
     "iopub.execute_input": "2022-07-22T13:14:36.198120Z",
     "iopub.status.busy": "2022-07-22T13:14:36.197686Z",
     "iopub.status.idle": "2022-07-22T13:18:01.968986Z",
     "shell.execute_reply": "2022-07-22T13:18:01.967778Z",
     "shell.execute_reply.started": "2022-07-22T13:14:36.198058Z"
    },
    "papermill": {
     "duration": 0.140545,
     "end_time": "2020-12-14T15:20:19.933439",
     "exception": false,
     "start_time": "2020-12-14T15:20:19.792894",
     "status": "completed"
    },
    "tags": []
   },
   "outputs": [],
   "source": [
    "bsl_choice= {'method': 'sgd','n_epochs': 40}\n",
    "blo = BaselineOnly(bsl_options=bsl_choice)\n",
    "blo.fit(trainset)\n",
    "predictions = blo.test(testset)\n",
    "# Calculate RMSE\n",
    "blo_rmse = accuracy.rmse(predictions)"
   ]
  },
  {
   "cell_type": "code",
   "execution_count": 75,
   "metadata": {
    "execution": {
     "iopub.execute_input": "2022-07-22T13:18:01.972184Z",
     "iopub.status.busy": "2022-07-22T13:18:01.971247Z",
     "iopub.status.idle": "2022-07-22T13:18:01.979632Z",
     "shell.execute_reply": "2022-07-22T13:18:01.978663Z",
     "shell.execute_reply.started": "2022-07-22T13:18:01.972122Z"
    }
   },
   "outputs": [],
   "source": [
    "#params = {'method': 'sgd','n_epochs': 40}\n",
    "#metrics = {'accuracy' : blo_rmse}\n",
    "#experiment.log_parameters(params)\n",
    "#experiment.log_metrics(metrics)"
   ]
  },
  {
   "cell_type": "code",
   "execution_count": 76,
   "metadata": {
    "execution": {
     "iopub.execute_input": "2022-07-22T13:18:01.981215Z",
     "iopub.status.busy": "2022-07-22T13:18:01.980847Z",
     "iopub.status.idle": "2022-07-22T13:18:02.002912Z",
     "shell.execute_reply": "2022-07-22T13:18:02.001665Z",
     "shell.execute_reply.started": "2022-07-22T13:18:01.981183Z"
    }
   },
   "outputs": [],
   "source": [
    "test.info()"
   ]
  },
  {
   "cell_type": "markdown",
   "metadata": {
    "papermill": {
     "duration": 0.127602,
     "end_time": "2020-12-14T15:20:20.185674",
     "exception": false,
     "start_time": "2020-12-14T15:20:20.058072",
     "status": "completed"
    },
    "tags": []
   },
   "source": [
    "#### Co-Clustering  \n",
    "The Co-clustering algorithm assigns clusters using a straightforward optimization method, much like k-means."
   ]
  },
  {
   "cell_type": "code",
   "execution_count": 77,
   "metadata": {
    "execution": {
     "iopub.execute_input": "2022-07-22T13:18:02.005263Z",
     "iopub.status.busy": "2022-07-22T13:18:02.004440Z",
     "iopub.status.idle": "2022-07-22T13:25:17.720446Z",
     "shell.execute_reply": "2022-07-22T13:25:17.719353Z",
     "shell.execute_reply.started": "2022-07-22T13:18:02.005213Z"
    },
    "papermill": {
     "duration": 0.310559,
     "end_time": "2020-12-14T15:20:20.620461",
     "exception": false,
     "start_time": "2020-12-14T15:20:20.309902",
     "status": "completed"
    },
    "tags": []
   },
   "outputs": [],
   "source": [
    "coc= CoClustering(random_state=42)\n",
    "coc.fit(trainset)\n",
    "predictions = coc.test(testset)\n",
    "# Calculate RMSE\n",
    "coc_rmse = accuracy.rmse(predictions)"
   ]
  },
  {
   "cell_type": "code",
   "execution_count": 78,
   "metadata": {
    "execution": {
     "iopub.execute_input": "2022-07-22T13:25:17.722467Z",
     "iopub.status.busy": "2022-07-22T13:25:17.722039Z",
     "iopub.status.idle": "2022-07-22T13:25:17.728537Z",
     "shell.execute_reply": "2022-07-22T13:25:17.727355Z",
     "shell.execute_reply.started": "2022-07-22T13:25:17.722435Z"
    }
   },
   "outputs": [],
   "source": [
    "#params = {'random_state': 42}\n",
    "#metrics = {'accuracy' : coc_rmse}\n",
    "#experiment.log_parameters(params)\n",
    "#experiment.log_metrics(metrics)"
   ]
  },
  {
   "cell_type": "code",
   "execution_count": 79,
   "metadata": {
    "execution": {
     "iopub.execute_input": "2022-07-22T13:25:17.730988Z",
     "iopub.status.busy": "2022-07-22T13:25:17.730332Z",
     "iopub.status.idle": "2022-07-22T13:25:19.226390Z",
     "shell.execute_reply": "2022-07-22T13:25:19.225525Z",
     "shell.execute_reply.started": "2022-07-22T13:25:17.730919Z"
    }
   },
   "outputs": [],
   "source": [
    "experiment.end()"
   ]
  },
  {
   "cell_type": "code",
   "execution_count": 80,
   "metadata": {
    "execution": {
     "iopub.execute_input": "2022-07-22T13:25:19.228144Z",
     "iopub.status.busy": "2022-07-22T13:25:19.227541Z",
     "iopub.status.idle": "2022-07-22T13:25:19.234751Z",
     "shell.execute_reply": "2022-07-22T13:25:19.233579Z",
     "shell.execute_reply.started": "2022-07-22T13:25:19.228110Z"
    }
   },
   "outputs": [],
   "source": [
    "experiment.display()"
   ]
  },
  {
   "cell_type": "markdown",
   "metadata": {
    "papermill": {
     "duration": 0.120823,
     "end_time": "2020-12-14T15:20:20.863776",
     "exception": false,
     "start_time": "2020-12-14T15:20:20.742953",
     "status": "completed"
    },
    "tags": []
   },
   "source": [
    "##  Performance Evaluation\n",
    "\n",
    "\n",
    "We built and tested six different collaborative filtering models and compared their performance using a statistical measure known as the root mean squared error (RMSE), which determines the average squared difference between the estimated values and the actual value. A low RMSE value indicates high model accuracy\n",
    "\n",
    "### Root Mean Squared Error (RMSE):\n",
    "$$RMSE = \\sqrt{\\frac{1}{n}\\Sigma_{i=1}^{n}{\\Big(\\frac{d_i -f_i}{\\sigma_i}\\Big)^2}}$$ "
   ]
  },
  {
   "cell_type": "code",
   "execution_count": 81,
   "metadata": {
    "execution": {
     "iopub.execute_input": "2022-07-22T13:25:19.236338Z",
     "iopub.status.busy": "2022-07-22T13:25:19.236054Z",
     "iopub.status.idle": "2022-07-22T13:25:19.481185Z",
     "shell.execute_reply": "2022-07-22T13:25:19.479849Z",
     "shell.execute_reply.started": "2022-07-22T13:25:19.236311Z"
    },
    "papermill": {
     "duration": 0.479527,
     "end_time": "2020-12-14T15:20:21.464677",
     "exception": false,
     "start_time": "2020-12-14T15:20:20.985150",
     "status": "completed"
    },
    "tags": []
   },
   "outputs": [],
   "source": [
    "# Comparing RMSE values between models\n",
    "fig,axis = plt.subplots(figsize=(8, 5))\n",
    "rmse_x = ['SVD','NormalPredictor','NMF','BaselineOnly','Co-Clustering']\n",
    "rmse_y = [svd_rmse,np_rmse,nmf_rmse,blo_rmse,coc_rmse]\n",
    "ax = sns.barplot(x=rmse_x, y=rmse_y,palette=\"PuBu\",edgecolor='black')\n",
    "plt.title('RMSE Value Per Collaborative-based Filtering Model',fontsize=14)\n",
    "plt.xticks(rotation=90)\n",
    "plt.ylabel('RMSE')\n",
    "for p in ax.patches:\n",
    "    ax.text(p.get_x() + p.get_width()/2, p.get_y() + p.get_height(), round(p.get_height(),2), fontsize=12, ha=\"center\", va='bottom')\n",
    "    \n",
    "plt.show()"
   ]
  },
  {
   "cell_type": "markdown",
   "metadata": {
    "papermill": {
     "duration": 0.123592,
     "end_time": "2020-12-14T15:20:21.711331",
     "exception": false,
     "start_time": "2020-12-14T15:20:21.587739",
     "status": "completed"
    },
    "tags": []
   },
   "source": [
    "## Using the Suprise Library "
   ]
  },
  {
   "cell_type": "code",
   "execution_count": 82,
   "metadata": {
    "execution": {
     "iopub.execute_input": "2022-07-22T13:25:19.493634Z",
     "iopub.status.busy": "2022-07-22T13:25:19.492609Z",
     "iopub.status.idle": "2022-07-22T14:29:39.014051Z",
     "shell.execute_reply": "2022-07-22T14:29:39.012868Z",
     "shell.execute_reply.started": "2022-07-22T13:25:19.493593Z"
    },
    "papermill": {
     "duration": 0.212087,
     "end_time": "2020-12-14T15:20:22.064361",
     "exception": false,
     "start_time": "2020-12-14T15:20:21.852274",
     "status": "completed"
    },
    "tags": []
   },
   "outputs": [],
   "source": [
    "\n",
    "# Here we use a powerful library -Surprise, designed for recommender systems to validate our model.\n",
    "reader = Reader(rating_scale=(0.5, 5))\n",
    "\n",
    "data = Dataset.load_from_df(pred[['userId', 'movieId' ,'rating']], reader)\n",
    "\n",
    "cross_validate(algo, data, measures=['RMSE'], cv=3, verbose=False)"
   ]
  },
  {
   "cell_type": "code",
   "execution_count": 83,
   "metadata": {
    "execution": {
     "iopub.execute_input": "2022-07-22T14:29:39.016873Z",
     "iopub.status.busy": "2022-07-22T14:29:39.015654Z",
     "iopub.status.idle": "2022-07-22T14:29:39.028797Z",
     "shell.execute_reply": "2022-07-22T14:29:39.027809Z",
     "shell.execute_reply.started": "2022-07-22T14:29:39.016826Z"
    }
   },
   "outputs": [],
   "source": [
    "pred.info()\n"
   ]
  },
  {
   "cell_type": "markdown",
   "metadata": {
    "papermill": {
     "duration": 0.126062,
     "end_time": "2020-12-14T15:20:22.314247",
     "exception": false,
     "start_time": "2020-12-14T15:20:22.188185",
     "status": "completed"
    },
    "tags": []
   },
   "source": [
    "<a id='10.2'></a>\n",
    " ## Hyperparameter Tuning \n",
    " \n",
    "Hyperparameter tuning is the process of determining the right combination of hyperparameters that allows the model to maximize model performance. Setting the correct combination of hyperparameters is the only way to extract the maximum performance out of models.\n",
    "\n",
    "We decided to hypertune the SVD algorithm model, which was the best performing amongst the top three algorithm (since it had the lowest RMSE value)\n"
   ]
  },
  {
   "cell_type": "code",
   "execution_count": 84,
   "metadata": {
    "execution": {
     "iopub.execute_input": "2022-07-22T14:29:39.031074Z",
     "iopub.status.busy": "2022-07-22T14:29:39.030054Z",
     "iopub.status.idle": "2022-07-22T14:29:39.042892Z",
     "shell.execute_reply": "2022-07-22T14:29:39.041662Z",
     "shell.execute_reply.started": "2022-07-22T14:29:39.031026Z"
    },
    "papermill": {
     "duration": 0.53124,
     "end_time": "2020-12-14T15:20:22.968878",
     "exception": false,
     "start_time": "2020-12-14T15:20:22.437638",
     "status": "completed"
    },
    "tags": []
   },
   "outputs": [],
   "source": [
    "# Define search grid\n",
    "#param_grid = {'n_epochs': [20,30,40,45,50], 'init_std_dev' : [0.01,0.02,0.05], 'n_factors' : [100,150,200,250,300]}\n",
    "\n",
    "# Instatiate gridsearch instance\n",
    "#gs = GridSearchCV(SVD, param_grid, measures=['rmse'], cv=2)\n",
    "\n",
    "# Run gridsearch\n",
    "#gs.fit(data)\n",
    "\n",
    "# best RMSE score\n",
    "#print(gs.best_score['rmse'])\n",
    "\n",
    "# combination of parameters that gave the best RMSE score\n",
    "#print(gs.best_params['rmse'])"
   ]
  },
  {
   "cell_type": "code",
   "execution_count": 85,
   "metadata": {
    "execution": {
     "iopub.execute_input": "2022-07-22T14:29:39.044548Z",
     "iopub.status.busy": "2022-07-22T14:29:39.044220Z",
     "iopub.status.idle": "2022-07-22T14:29:39.092491Z",
     "shell.execute_reply": "2022-07-22T14:29:39.091308Z",
     "shell.execute_reply.started": "2022-07-22T14:29:39.044521Z"
    },
    "papermill": {
     "duration": 0.134701,
     "end_time": "2020-12-14T15:20:23.227296",
     "exception": false,
     "start_time": "2020-12-14T15:20:23.092595",
     "status": "completed"
    },
    "tags": []
   },
   "outputs": [],
   "source": [
    "# We are converting the userId and movieId into integers as our algorithm converted them into floats\n",
    "pred.userId=pred['userId'].astype(int)\n",
    "pred.movieId=pred['movieId'].astype(int)"
   ]
  },
  {
   "cell_type": "code",
   "execution_count": 86,
   "metadata": {
    "execution": {
     "iopub.execute_input": "2022-07-22T14:29:39.095049Z",
     "iopub.status.busy": "2022-07-22T14:29:39.094614Z",
     "iopub.status.idle": "2022-07-22T14:31:33.387509Z",
     "shell.execute_reply": "2022-07-22T14:31:33.386556Z",
     "shell.execute_reply.started": "2022-07-22T14:29:39.095004Z"
    }
   },
   "outputs": [],
   "source": [
    "# Concatenating userId/movieId into a single Id column.(code has to be run twice to get desired outcome)\n",
    "\n",
    "pred['Id']=pred.apply(lambda x:'%s_%s' % (x['userId'],x['movieId']),axis=1)\n",
    "pred['Id']=pred.apply(lambda x:'%s_%s' % (x['userId'],x['movieId']),axis=1)"
   ]
  },
  {
   "cell_type": "code",
   "execution_count": 87,
   "metadata": {
    "execution": {
     "iopub.execute_input": "2022-07-22T14:31:33.389784Z",
     "iopub.status.busy": "2022-07-22T14:31:33.388847Z",
     "iopub.status.idle": "2022-07-22T14:31:33.441856Z",
     "shell.execute_reply": "2022-07-22T14:31:33.440512Z",
     "shell.execute_reply.started": "2022-07-22T14:31:33.389749Z"
    },
    "papermill": {
     "duration": 0.13337,
     "end_time": "2020-12-14T15:20:23.750001",
     "exception": false,
     "start_time": "2020-12-14T15:20:23.616631",
     "status": "completed"
    },
    "tags": []
   },
   "outputs": [],
   "source": [
    "predict=pred[['Id','rating']]"
   ]
  },
  {
   "cell_type": "markdown",
   "metadata": {
    "papermill": {
     "duration": 0.126033,
     "end_time": "2020-12-14T15:20:24.756319",
     "exception": false,
     "start_time": "2020-12-14T15:20:24.630286",
     "status": "completed"
    },
    "tags": []
   },
   "source": [
    "<a id='15'></a>\n",
    "# Submission file"
   ]
  },
  {
   "cell_type": "code",
   "execution_count": 92,
   "metadata": {
    "execution": {
     "iopub.execute_input": "2022-07-22T14:34:49.147677Z",
     "iopub.status.busy": "2022-07-22T14:34:49.146100Z",
     "iopub.status.idle": "2022-07-22T14:37:53.970648Z",
     "shell.execute_reply": "2022-07-22T14:37:53.969315Z",
     "shell.execute_reply.started": "2022-07-22T14:34:49.147633Z"
    },
    "papermill": {
     "duration": 0.131793,
     "end_time": "2020-12-14T15:20:25.019301",
     "exception": false,
     "start_time": "2020-12-14T15:20:24.887508",
     "status": "completed"
    },
    "tags": []
   },
   "outputs": [],
   "source": [
    "test_df[\"rating\"] = test_df.apply(\n",
    "    lambda x: algo.predict(x[\"userId\"], x[\"movieId\"]).est, axis=1\n",
    ")\n",
    "submission = test_df[[\"Id\", \"rating\"]]\n",
    "\n",
    "submission.to_csv(\"submissionkaggle.csv\", index=False)"
   ]
  },
  {
   "cell_type": "code",
   "execution_count": 93,
   "metadata": {
    "execution": {
     "iopub.execute_input": "2022-07-22T14:37:53.973363Z",
     "iopub.status.busy": "2022-07-22T14:37:53.972522Z",
     "iopub.status.idle": "2022-07-22T14:37:53.985392Z",
     "shell.execute_reply": "2022-07-22T14:37:53.984161Z",
     "shell.execute_reply.started": "2022-07-22T14:37:53.973315Z"
    }
   },
   "outputs": [],
   "source": [
    "submission.info()"
   ]
  }
 ],
 "metadata": {
  "kernelspec": {
   "display_name": "Python 3 (ipykernel)",
   "language": "python",
   "name": "python3"
  },
  "language_info": {
   "codemirror_mode": {
    "name": "ipython",
    "version": 3
   },
   "file_extension": ".py",
   "mimetype": "text/x-python",
   "name": "python",
   "nbconvert_exporter": "python",
   "pygments_lexer": "ipython3",
   "version": "3.9.12"
  }
 },
 "nbformat": 4,
 "nbformat_minor": 4
}
